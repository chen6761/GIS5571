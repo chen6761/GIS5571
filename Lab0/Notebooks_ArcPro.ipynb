{
 "cells": [
  {
   "cell_type": "code",
   "execution_count": 23,
   "metadata": {},
   "outputs": [],
   "source": [
    "## import the arcpy functions\n",
    "import arcpy"
   ]
  },
  {
   "cell_type": "code",
   "execution_count": 24,
   "metadata": {},
   "outputs": [],
   "source": [
    "## set up the workspace with assigning the path to the Rice County Roads database\n",
    "arcpy.env.workspace=r'D:\\2021-spring\\ArcGIS\\Lab0\\shp_trans_roads'"
   ]
  },
  {
   "cell_type": "code",
   "execution_count": 25,
   "metadata": {},
   "outputs": [
    {
     "name": "stdout",
     "output_type": "stream",
     "text": [
      "RiceCounty_roads_buffer_JupyterNotebookArcPro.shp\n",
      "trans_roads.shp\n"
     ]
    }
   ],
   "source": [
    "## check the content under the workspace\n",
    "featureclasses=arcpy.ListFeatureClasses()\n",
    "for fc in featureclasses :\n",
    "    print(fc)"
   ]
  },
  {
   "cell_type": "code",
   "execution_count": 26,
   "metadata": {},
   "outputs": [
    {
     "data": {
      "text/html": [
       "<h2>Output</h2>D:\\2021-spring\\ArcGIS\\Lab0\\shp_trans_roads\\RiceCounty_roads_buffer_JupyterNotebookArcPro.shp<h2>Messages</h2>Start Time: 2021年1月28日 上午 01:24:03<br/>WARNING 000635: Skipping feature 5831 because of NULL or EMPTY geometry.<br/>Succeeded at 2021年1月28日 上午 01:24:08 (Elapsed Time: 5.78 seconds)<br/><style>.rendered_html td, .rendered_html th {text-align: left;}.rendered_html tbody {border: 1px solid black;}</style>"
      ],
      "text/plain": [
       "<Result 'D:\\\\2021-spring\\\\ArcGIS\\\\Lab0\\\\shp_trans_roads\\\\RiceCounty_roads_buffer_JupyterNotebookArcPro.shp'>"
      ]
     },
     "execution_count": 26,
     "metadata": {},
     "output_type": "execute_result"
    }
   ],
   "source": [
    "## execute the buffer analysis\n",
    "input_file=\"trans_roads.shp\"               \n",
    "output_file=\"RiceCounty_roads_buffer_JupyterNotebookArcPro\"\n",
    "arcpy.Buffer_analysis(input_file, output_file, \"50 meter\")\n"
   ]
  }
 ],
 "metadata": {
  "kernelspec": {
   "display_name": "ArcGISPro",
   "language": "Python",
   "name": "python3"
  },
  "language_info": {
   "file_extension": ".py",
   "name": "python",
   "version": "3"
  }
 },
 "nbformat": 4,
 "nbformat_minor": 2
}
