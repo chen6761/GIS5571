{
 "cells": [
  {
   "cell_type": "markdown",
   "metadata": {},
   "source": [
    "# Import modules"
   ]
  },
  {
   "cell_type": "code",
   "execution_count": 1,
   "metadata": {},
   "outputs": [],
   "source": [
    "import pandas as pd\n",
    "import csv\n",
    "import os\n",
    "import arcpy\n",
    "from urllib.request import urlopen\n",
    "from bs4 import BeautifulSoup\n",
    "import requests\n",
    "import zipfile"
   ]
  },
  {
   "cell_type": "markdown",
   "metadata": {},
   "source": [
    "# Download 2019 March Student Data"
   ]
  },
  {
   "cell_type": "code",
   "execution_count": 2,
   "metadata": {},
   "outputs": [],
   "source": [
    "# Read the 2019 March table in the website and save it as csv file\n",
    "url = 'https://studyinthestates.dhs.gov/sevis-data-mapping-tool/march-2019-sevis-data-mapping-tool-data'\n",
    "table = pd.read_html(url)[0] \n",
    "table.to_csv('2019temp.csv')"
   ]
  },
  {
   "cell_type": "code",
   "execution_count": 3,
   "metadata": {},
   "outputs": [],
   "source": [
    "# Read the csv file, rename the columns, and drop the unnecessary columns\n",
    "df = pd.read_csv('2019temp.csv')\n",
    "df.columns = ['Country of Citizenship','Continent','Region','# of Active Students','Male','Female','ASSOCIATE','BACHELOR','DOCTORATE','FLIGHT TRAINING','HIGH SCHOOL','LANGUAGE TRAINING','MASTER','OTHER','OTHER VOCATIONAL SCHOOL','PRIMARY','SECONDARY','AL','AK','AZ','AR','CA','CO','CT','DE','DC','FL','GA','GU','HI','ID','IL','IN','IA','KS','KY','LA','ME','MD','MA','MI','MN','MS','MO','MT','NE','NV','NH','NJ','NM','NY','NC','ND','MP','OH','OK','OR','PA','PR','RI','SC','SD','TN','TX','UT','VT','VI','VA','WA','WV','WI','WY']\n",
    "dfstate = df.drop(labels=['Country of Citizenship','Continent','Region','# of Active Students','Male','Female','ASSOCIATE','BACHELOR','DOCTORATE','FLIGHT TRAINING','HIGH SCHOOL','LANGUAGE TRAINING','MASTER','OTHER','OTHER VOCATIONAL SCHOOL','PRIMARY','SECONDARY'],axis=1)"
   ]
  },
  {
   "cell_type": "code",
   "execution_count": 4,
   "metadata": {},
   "outputs": [],
   "source": [
    "# Sum up the student number by state, add the columns name and save it back as a new csv file\n",
    "data=dfstate.sum() \n",
    "data.to_csv('2019temp.csv')\n",
    "data = pd.read_csv('2019temp.csv')\n",
    "data.columns = ['2019State','2019Student']\n",
    "data.to_csv(r'D:\\2021-spring\\ArcGIS\\Project\\2019Mar.csv')"
   ]
  },
  {
   "cell_type": "markdown",
   "metadata": {},
   "source": [
    "# Download 2020 September Student Data"
   ]
  },
  {
   "cell_type": "code",
   "execution_count": 5,
   "metadata": {},
   "outputs": [],
   "source": [
    "# Read the 2020 September table in the website and save it as csv file\n",
    "url = 'https://studyinthestates.dhs.gov/sevis-data-mapping-tool/september-2020-sevis-data-mapping-tool-data'\n",
    "table = pd.read_html(url)[0] \n",
    "table.to_csv('2020temp.csv')"
   ]
  },
  {
   "cell_type": "code",
   "execution_count": 6,
   "metadata": {},
   "outputs": [],
   "source": [
    "# Read the csv file, and drop the unnecessary columns\n",
    "df = pd.read_csv('2020temp.csv')\n",
    "df.columns = ['list','Country of Citizenship','Continent','Region','# of Active Students','Male','Female','ASSOCIATE','BACHELOR','DOCTORATE','FLIGHT TRAINING','HIGH SCHOOL','LANGUAGE TRAINING','MASTER','OTHER','OTHER VOCATIONAL SCHOOL','PRIMARY','SECONDARY','AK','AL','AR','AZ','CA','CO','CT','DC','DE','FL','GA','GU','HI','IA','ID','IL','IN','KS','KY','LA','MA','MD','ME','MI','MN','MO','MP','MS','MT','NC','ND','NE','NH','NJ','NM','NV','NY','OH','OK','OR','PA','PR','RI','SC','SD','TN','TX','UT','VA','VI','VT','WA','WI','WV','WY']\n",
    "dfstate = df.drop(labels=['list','Country of Citizenship','Continent','Region','# of Active Students','Male','Female','ASSOCIATE','BACHELOR','DOCTORATE','FLIGHT TRAINING','HIGH SCHOOL','LANGUAGE TRAINING','MASTER','OTHER','OTHER VOCATIONAL SCHOOL','PRIMARY','SECONDARY'],axis=1)"
   ]
  },
  {
   "cell_type": "code",
   "execution_count": 7,
   "metadata": {},
   "outputs": [],
   "source": [
    "# Sum up the student number by state, add the columns name and save it back as a new csv file\n",
    "data=dfstate.sum() \n",
    "data.to_csv('2020temp.csv')\n",
    "data = pd.read_csv('2020temp.csv')\n",
    "data.columns = ['2020State','2020Student']\n",
    "data.to_csv(r'D:\\2021-spring\\ArcGIS\\Project\\2020Sep.csv')"
   ]
  },
  {
   "cell_type": "markdown",
   "metadata": {},
   "source": [
    "# Download State Boundaries Data"
   ]
  },
  {
   "cell_type": "code",
   "execution_count": 8,
   "metadata": {},
   "outputs": [],
   "source": [
    "# Use urlopen to get the data and save it as a variable\n",
    "response = urlopen(\"https://www.census.gov/geographies/mapping-files/time-series/geo/carto-boundary-file.html\")\n",
    "html = response.read()"
   ]
  },
  {
   "cell_type": "code",
   "execution_count": 9,
   "metadata": {},
   "outputs": [],
   "source": [
    "# Build the BeautifulSoup item from the website data\n",
    "parser = BeautifulSoup(html.decode(\"utf-8\"), \"html.parser\")"
   ]
  },
  {
   "cell_type": "code",
   "execution_count": 10,
   "metadata": {},
   "outputs": [],
   "source": [
    "# Find the class for downloading the shapefile\n",
    "target = parser.find_all('a', class_=\"uscb-layout-align-start-start\", name_='cb_2018_us_state_500k.zip')"
   ]
  },
  {
   "cell_type": "code",
   "execution_count": 11,
   "metadata": {},
   "outputs": [],
   "source": [
    "# Find the class for downloading the shapefile\n",
    "target = parser.find_all(\"a\", href=\"//www2.census.gov/geo/tiger/GENZ2018/shp/cb_2018_us_state_500k.zip\")"
   ]
  },
  {
   "cell_type": "code",
   "execution_count": 12,
   "metadata": {},
   "outputs": [
    {
     "name": "stdout",
     "output_type": "stream",
     "text": [
      "http://www2.census.gov/geo/tiger/GENZ2018/shp/cb_2018_us_state_500k.zip\n"
     ]
    }
   ],
   "source": [
    "# Get the downloading link from the class above \n",
    "for link in target:\n",
    "    url = 'http:'+link.get('href')\n",
    "    print(url)"
   ]
  },
  {
   "cell_type": "code",
   "execution_count": 13,
   "metadata": {},
   "outputs": [
    {
     "data": {
      "text/plain": [
       "0"
      ]
     },
     "execution_count": 13,
     "metadata": {},
     "output_type": "execute_result"
    }
   ],
   "source": [
    "# Get the data and save it as a zip file\n",
    "r = requests.get(url, allow_redirects=True)\n",
    "open('stateboundary.zip', 'wb').write(r.content)"
   ]
  },
  {
   "cell_type": "code",
   "execution_count": 14,
   "metadata": {},
   "outputs": [
    {
     "ename": "BadZipFile",
     "evalue": "File is not a zip file",
     "output_type": "error",
     "traceback": [
      "\u001b[1;31m---------------------------------------------------------------------------\u001b[0m",
      "\u001b[1;31mBadZipFile\u001b[0m                                Traceback (most recent call last)",
      "\u001b[1;32m<ipython-input-14-a04908f2fea8>\u001b[0m in \u001b[0;36m<module>\u001b[1;34m\u001b[0m\n\u001b[0;32m      1\u001b[0m \u001b[1;31m# unzip the file\u001b[0m\u001b[1;33m\u001b[0m\u001b[1;33m\u001b[0m\u001b[1;33m\u001b[0m\u001b[0m\n\u001b[1;32m----> 2\u001b[1;33m \u001b[1;32mwith\u001b[0m \u001b[0mzipfile\u001b[0m\u001b[1;33m.\u001b[0m\u001b[0mZipFile\u001b[0m\u001b[1;33m(\u001b[0m\u001b[1;34m'stateboundary.zip'\u001b[0m\u001b[1;33m,\u001b[0m \u001b[1;34m'r'\u001b[0m\u001b[1;33m)\u001b[0m \u001b[1;32mas\u001b[0m \u001b[0mtempzip\u001b[0m\u001b[1;33m:\u001b[0m\u001b[1;33m\u001b[0m\u001b[1;33m\u001b[0m\u001b[0m\n\u001b[0m\u001b[0;32m      3\u001b[0m     \u001b[0mtempzip\u001b[0m\u001b[1;33m.\u001b[0m\u001b[0mextractall\u001b[0m\u001b[1;33m(\u001b[0m\u001b[1;34mr'D:\\2021-spring\\ArcGIS\\Project\\stateboundary'\u001b[0m\u001b[1;33m)\u001b[0m\u001b[1;33m\u001b[0m\u001b[1;33m\u001b[0m\u001b[0m\n",
      "\u001b[1;32mC:\\Program Files\\ArcGIS\\Pro\\bin\\Python\\envs\\arcgispro-py3\\lib\\zipfile.py\u001b[0m in \u001b[0;36m__init__\u001b[1;34m(self, file, mode, compression, allowZip64, compresslevel)\u001b[0m\n\u001b[0;32m   1256\u001b[0m         \u001b[1;32mtry\u001b[0m\u001b[1;33m:\u001b[0m\u001b[1;33m\u001b[0m\u001b[1;33m\u001b[0m\u001b[0m\n\u001b[0;32m   1257\u001b[0m             \u001b[1;32mif\u001b[0m \u001b[0mmode\u001b[0m \u001b[1;33m==\u001b[0m \u001b[1;34m'r'\u001b[0m\u001b[1;33m:\u001b[0m\u001b[1;33m\u001b[0m\u001b[1;33m\u001b[0m\u001b[0m\n\u001b[1;32m-> 1258\u001b[1;33m                 \u001b[0mself\u001b[0m\u001b[1;33m.\u001b[0m\u001b[0m_RealGetContents\u001b[0m\u001b[1;33m(\u001b[0m\u001b[1;33m)\u001b[0m\u001b[1;33m\u001b[0m\u001b[1;33m\u001b[0m\u001b[0m\n\u001b[0m\u001b[0;32m   1259\u001b[0m             \u001b[1;32melif\u001b[0m \u001b[0mmode\u001b[0m \u001b[1;32min\u001b[0m \u001b[1;33m(\u001b[0m\u001b[1;34m'w'\u001b[0m\u001b[1;33m,\u001b[0m \u001b[1;34m'x'\u001b[0m\u001b[1;33m)\u001b[0m\u001b[1;33m:\u001b[0m\u001b[1;33m\u001b[0m\u001b[1;33m\u001b[0m\u001b[0m\n\u001b[0;32m   1260\u001b[0m                 \u001b[1;31m# set the modified flag so central directory gets written\u001b[0m\u001b[1;33m\u001b[0m\u001b[1;33m\u001b[0m\u001b[1;33m\u001b[0m\u001b[0m\n",
      "\u001b[1;32mC:\\Program Files\\ArcGIS\\Pro\\bin\\Python\\envs\\arcgispro-py3\\lib\\zipfile.py\u001b[0m in \u001b[0;36m_RealGetContents\u001b[1;34m(self)\u001b[0m\n\u001b[0;32m   1323\u001b[0m             \u001b[1;32mraise\u001b[0m \u001b[0mBadZipFile\u001b[0m\u001b[1;33m(\u001b[0m\u001b[1;34m\"File is not a zip file\"\u001b[0m\u001b[1;33m)\u001b[0m\u001b[1;33m\u001b[0m\u001b[1;33m\u001b[0m\u001b[0m\n\u001b[0;32m   1324\u001b[0m         \u001b[1;32mif\u001b[0m \u001b[1;32mnot\u001b[0m \u001b[0mendrec\u001b[0m\u001b[1;33m:\u001b[0m\u001b[1;33m\u001b[0m\u001b[1;33m\u001b[0m\u001b[0m\n\u001b[1;32m-> 1325\u001b[1;33m             \u001b[1;32mraise\u001b[0m \u001b[0mBadZipFile\u001b[0m\u001b[1;33m(\u001b[0m\u001b[1;34m\"File is not a zip file\"\u001b[0m\u001b[1;33m)\u001b[0m\u001b[1;33m\u001b[0m\u001b[1;33m\u001b[0m\u001b[0m\n\u001b[0m\u001b[0;32m   1326\u001b[0m         \u001b[1;32mif\u001b[0m \u001b[0mself\u001b[0m\u001b[1;33m.\u001b[0m\u001b[0mdebug\u001b[0m \u001b[1;33m>\u001b[0m \u001b[1;36m1\u001b[0m\u001b[1;33m:\u001b[0m\u001b[1;33m\u001b[0m\u001b[1;33m\u001b[0m\u001b[0m\n\u001b[0;32m   1327\u001b[0m             \u001b[0mprint\u001b[0m\u001b[1;33m(\u001b[0m\u001b[0mendrec\u001b[0m\u001b[1;33m)\u001b[0m\u001b[1;33m\u001b[0m\u001b[1;33m\u001b[0m\u001b[0m\n",
      "\u001b[1;31mBadZipFile\u001b[0m: File is not a zip file"
     ]
    }
   ],
   "source": [
    "# unzip the file\n",
    "with zipfile.ZipFile('stateboundary.zip', 'r') as tempzip:\n",
    "    tempzip.extractall(r'D:\\2021-spring\\ArcGIS\\Project\\stateboundary')"
   ]
  },
  {
   "cell_type": "markdown",
   "metadata": {},
   "source": [
    "# Arcpy - Join Data "
   ]
  },
  {
   "cell_type": "code",
   "execution_count": 15,
   "metadata": {},
   "outputs": [],
   "source": [
    "# Set up the Arcpy environment\n",
    "arcpy.env.workspace = r'D:\\2021-spring\\ArcGIS\\Project'\n",
    "aprx = arcpy.mp.ArcGISProject(r'D:\\2021-spring\\ArcGIS\\Project\\Final Project\\Final Project.aprx')"
   ]
  },
  {
   "cell_type": "code",
   "execution_count": 16,
   "metadata": {},
   "outputs": [
    {
     "data": {
      "text/html": [
       "<h2>Output</h2>D:\\2021-spring\\ArcGIS\\Project\\\\stateboundary\\cb_2018_us_state_500k.shp<h2>Messages</h2>Start Time: 2021年5月3日 下午 03:21:10<br/>Succeeded at 2021年5月3日 下午 03:21:10 (Elapsed Time: 0.79 seconds)<br/><style>.rendered_html td, .rendered_html th {text-align: left;}.rendered_html tbody {border: 1px solid black;}</style>"
      ],
      "text/plain": [
       "<Result 'D:\\\\2021-spring\\\\ArcGIS\\\\Project\\\\\\\\stateboundary\\\\cb_2018_us_state_500k.shp'>"
      ]
     },
     "execution_count": 16,
     "metadata": {},
     "output_type": "execute_result"
    }
   ],
   "source": [
    "# Join 2019 March Student Number\n",
    "arcpy.management.JoinField(r'\\stateboundary\\cb_2018_us_state_500k.shp','STUSPS','2019Mar.csv','2019State','2019Student')"
   ]
  },
  {
   "cell_type": "code",
   "execution_count": 17,
   "metadata": {},
   "outputs": [
    {
     "data": {
      "text/html": [
       "<h2>Output</h2>D:\\2021-spring\\ArcGIS\\Project\\\\stateboundary\\cb_2018_us_state_500k.shp<h2>Messages</h2>Start Time: 2021年5月3日 下午 03:21:11<br/>Succeeded at 2021年5月3日 下午 03:21:12 (Elapsed Time: 0.93 seconds)<br/><style>.rendered_html td, .rendered_html th {text-align: left;}.rendered_html tbody {border: 1px solid black;}</style>"
      ],
      "text/plain": [
       "<Result 'D:\\\\2021-spring\\\\ArcGIS\\\\Project\\\\\\\\stateboundary\\\\cb_2018_us_state_500k.shp'>"
      ]
     },
     "execution_count": 17,
     "metadata": {},
     "output_type": "execute_result"
    }
   ],
   "source": [
    "# Join 2020 September Student Number\n",
    "arcpy.management.JoinField(r'\\stateboundary\\cb_2018_us_state_500k.shp','STUSPS','2020Sep.csv','2020State','2020Student')"
   ]
  },
  {
   "cell_type": "code",
   "execution_count": 18,
   "metadata": {},
   "outputs": [
    {
     "data": {
      "text/html": [
       "<h2>Output</h2>D:\\2021-spring\\ArcGIS\\Project\\stateboundary\\cb_2018_us_state_500k.shp<h2>Messages</h2>Start Time: 2021年5月3日 下午 03:21:13<br/>Succeeded at 2021年5月3日 下午 03:21:14 (Elapsed Time: 0.78 seconds)<br/><style>.rendered_html td, .rendered_html th {text-align: left;}.rendered_html tbody {border: 1px solid black;}</style>"
      ],
      "text/plain": [
       "<Result 'D:\\\\2021-spring\\\\ArcGIS\\\\Project\\\\stateboundary\\\\cb_2018_us_state_500k.shp'>"
      ]
     },
     "execution_count": 18,
     "metadata": {},
     "output_type": "execute_result"
    }
   ],
   "source": [
    "# Join State Population\n",
    "arcpy.management.JoinField(r'stateboundary\\cb_2018_us_state_500k.shp','NAME','Population.csv','State','Population')"
   ]
  },
  {
   "cell_type": "code",
   "execution_count": 19,
   "metadata": {},
   "outputs": [
    {
     "data": {
      "text/html": [
       "<h2>Output</h2>D:\\2021-spring\\ArcGIS\\Project\\stateboundary\\cb_2018_us_state_500k.shp<h2>Messages</h2>Start Time: 2021年5月3日 下午 03:21:16<br/>Succeeded at 2021年5月3日 下午 03:21:17 (Elapsed Time: 0.91 seconds)<br/><style>.rendered_html td, .rendered_html th {text-align: left;}.rendered_html tbody {border: 1px solid black;}</style>"
      ],
      "text/plain": [
       "<Result 'D:\\\\2021-spring\\\\ArcGIS\\\\Project\\\\stateboundary\\\\cb_2018_us_state_500k.shp'>"
      ]
     },
     "execution_count": 19,
     "metadata": {},
     "output_type": "execute_result"
    }
   ],
   "source": [
    "arcpy.management.JoinField(r'stateboundary\\cb_2018_us_state_500k.shp','STUSPS','CovidCase.csv','State','CaseNum')"
   ]
  },
  {
   "cell_type": "markdown",
   "metadata": {},
   "source": [
    "# Arcpy - Calculate Data "
   ]
  },
  {
   "cell_type": "code",
   "execution_count": 20,
   "metadata": {},
   "outputs": [
    {
     "data": {
      "text/html": [
       "<h2>Output</h2>D:\\2021-spring\\ArcGIS\\Project\\stateboundary\\cb_2018_us_state_500k.shp<h2>Messages</h2>Start Time: 2021年5月3日 下午 03:22:21<br/>Adding StuVar to cb_2018_us_state_500k...<br/>Succeeded at 2021年5月3日 下午 03:22:21 (Elapsed Time: 0.03 seconds)<br/><style>.rendered_html td, .rendered_html th {text-align: left;}.rendered_html tbody {border: 1px solid black;}</style>"
      ],
      "text/plain": [
       "<Result 'D:\\\\2021-spring\\\\ArcGIS\\\\Project\\\\stateboundary\\\\cb_2018_us_state_500k.shp'>"
      ]
     },
     "execution_count": 20,
     "metadata": {},
     "output_type": "execute_result"
    }
   ],
   "source": [
    "arcpy.management.CalculateField('stateboundary\\cb_2018_us_state_500k.shp','StuVar','!2019Studen! - !2020Studen!','PYTHON3','','LONG')"
   ]
  },
  {
   "cell_type": "code",
   "execution_count": 21,
   "metadata": {},
   "outputs": [
    {
     "data": {
      "text/html": [
       "<h2>Output</h2>D:\\2021-spring\\ArcGIS\\Project\\stateboundary\\cb_2018_us_state_500k.shp<h2>Messages</h2>Start Time: 2021年5月3日 下午 03:22:22<br/>Adding StuVarPer to cb_2018_us_state_500k...<br/>Succeeded at 2021年5月3日 下午 03:22:22 (Elapsed Time: 0.03 seconds)<br/><style>.rendered_html td, .rendered_html th {text-align: left;}.rendered_html tbody {border: 1px solid black;}</style>"
      ],
      "text/plain": [
       "<Result 'D:\\\\2021-spring\\\\ArcGIS\\\\Project\\\\stateboundary\\\\cb_2018_us_state_500k.shp'>"
      ]
     },
     "execution_count": 21,
     "metadata": {},
     "output_type": "execute_result"
    }
   ],
   "source": [
    "arcpy.management.CalculateField('stateboundary\\cb_2018_us_state_500k.shp','StuVarPer','!StuVar! / !Population!*100','PYTHON3','','DOUBLE')"
   ]
  },
  {
   "cell_type": "code",
   "execution_count": 22,
   "metadata": {},
   "outputs": [
    {
     "data": {
      "text/html": [
       "<h2>Output</h2>D:\\2021-spring\\ArcGIS\\Project\\stateboundary\\cb_2018_us_state_500k.shp<h2>Messages</h2>Start Time: 2021年5月3日 下午 03:22:25<br/>Adding CasePer to cb_2018_us_state_500k...<br/>Succeeded at 2021年5月3日 下午 03:22:26 (Elapsed Time: 0.04 seconds)<br/><style>.rendered_html td, .rendered_html th {text-align: left;}.rendered_html tbody {border: 1px solid black;}</style>"
      ],
      "text/plain": [
       "<Result 'D:\\\\2021-spring\\\\ArcGIS\\\\Project\\\\stateboundary\\\\cb_2018_us_state_500k.shp'>"
      ]
     },
     "execution_count": 22,
     "metadata": {},
     "output_type": "execute_result"
    }
   ],
   "source": [
    "arcpy.management.CalculateField('stateboundary\\cb_2018_us_state_500k.shp','CasePer','!CaseNum! / !Population!*100','PYTHON3','','DOUBLE')"
   ]
  },
  {
   "cell_type": "markdown",
   "metadata": {},
   "source": [
    "#  Arcpy - Analyze Data"
   ]
  },
  {
   "cell_type": "code",
   "execution_count": 23,
   "metadata": {},
   "outputs": [
    {
     "data": {
      "text/html": [
       "<h2>Output</h2><table><tr><th>id</th><th>value</th></tr><tr><td>0</td><td>D:\\2021-spring\\ArcGIS\\Project\\Analysis\\StuVar.shp</td></tr><tr><td>1</td><td></td></tr></table><h2>Messages</h2>Start Time: 2021年5月3日 下午 03:22:30<br/>WARNING 001605: Distances for Geographic Coordinates (degrees, minutes, seconds) are analyzed using Chordal Distances in meters.<br/><br/>--------------- Summary of GLR Results [Model Type: Continuous (Gaussian/OLS)] --------------<br/>---------------------------------------------------------------------------------------------<br/>  Variable Coefficient [a]   StdError t-Statistic Probability [b]  Robust_SE  Robust_t Robust_Pr [b]<br/> Intercept     -365.023368 280.509513   -1.301287       0.198790  326.623114 -1.117567     0.268791 <br/>2020STUDEN        1.314007   0.009315  141.068629       0.000000*   0.028670 45.831556     0.000000*<br/>---------------------------------------------------------------------------------------------<br/><br/><br/>---------------------------------------------- GLR Diagnostics -----------------------------------------------<br/>--------------------------------------------------------------------------------------------------------------<br/>Input Features:              cb_2018_us_state_500k.shp   Dependent Variable:                          2019STUDEN <br/>Number of Observations:                             55   Akaike's Information Criterion (AICc) [d]:   981.429403 <br/>Multiple R-Squared [d]:                       0.997344   Adjusted R-Squared [d]:                        0.997294 <br/>Joint F-Statistic [e]:                    19900.358134   Prob(>F), (1,53) degrees of freedom:           0.000000*<br/>Joint Wald Statistic [e]:                  2100.531524   Prob(>chi-squared), (1) degrees of freedom:    0.000000*<br/>Koenker (BP) Statistic [f]:                  35.794498   Prob(>chi-squared), (1) degrees of freedom:    0.000000*<br/>Jarque-Bera Statistic [g]:                  117.379678   Prob(>chi-squared), (2) degrees of freedom:    0.000000*<br/>--------------------------------------------------------------------------------------------------------------<br/><br/><br/>Notes on Interpretation<br/> *  An asterisk next to a number indicates a statistically significant p-value (p < 0.01).                                                                                                                                                                                                                                                                <br/>[a] Coefficient: Represents the strength and type of relationship between each explanatory variable and the dependent variable.                                                                                                                                                                                                                           <br/>[b] Probability and Robust Probability (Robust_Pr): Asterisk (*) indicates a coefficient is statistically significant (p < 0.01); if the Koenker (BP) Statistic [f] is statistically significant, use the Robust Probability column (Robust_Pr) to determine coefficient significance.                                                                    <br/>[c] Variance Inflation Factor (VIF): Large Variance Inflation Factor (VIF) values (> 7.5) indicate redundancy among explanatory variables.                                                                                                                                                                                                                <br/>[d] R-Squared and Akaike's Information Criterion (AICc): Measures of model fit/performance.                                                                                                                                                                                                                                                               <br/>[e] Joint F and Wald Statistics: Asterisk (*) indicates overall model significance (p < 0.01); if the Koenker (BP) Statistic [f] is statistically significant, use the Wald Statistic to determine overall model significance.                                                                                                                            <br/>[f] Koenker (BP) Statistic: When this test is statistically significant (p < 0.01), the relationships modeled are not consistent (either due to non-stationarity or heteroskedasticity).  You should rely on the Robust Probabilities (Robust_Pr) to determine coefficient significance and on the Wald Statistic to determine overall model significance.<br/>[g] Jarque-Bera Statistic: When this test is statistically significant (p < 0.01) model predictions are biased (the residuals are not normally distributed).                                                                                                                                                                                              <br/><br/>Succeeded at 2021年5月3日 下午 03:22:31 (Elapsed Time: 0.77 seconds)<br/><style>.rendered_html td, .rendered_html th {text-align: left;}.rendered_html tbody {border: 1px solid black;}</style>"
      ],
      "text/plain": [
       "<Result 'D:\\\\2021-spring\\\\ArcGIS\\\\Project\\\\Analysis\\\\StuVar.shp'>"
      ]
     },
     "execution_count": 23,
     "metadata": {},
     "output_type": "execute_result"
    }
   ],
   "source": [
    "arcpy.stats.GeneralizedLinearRegression(r'stateboundary\\cb_2018_us_state_500k.shp','2019Studen','CONTINUOUS', r'Analysis\\StuVar.shp','2020Studen', None, None, None, None, None)"
   ]
  },
  {
   "cell_type": "code",
   "execution_count": 24,
   "metadata": {},
   "outputs": [
    {
     "data": {
      "text/html": [
       "<h2>Output</h2><table><tr><th>id</th><th>value</th></tr><tr><td>0</td><td>D:\\2021-spring\\ArcGIS\\Project\\Analysis\\StuVar_Case.shp</td></tr><tr><td>1</td><td></td></tr></table><h2>Messages</h2>Start Time: 2021年5月3日 下午 03:22:31<br/>WARNING 001605: Distances for Geographic Coordinates (degrees, minutes, seconds) are analyzed using Chordal Distances in meters.<br/><br/>------------ Summary of GLR Results [Model Type: Continuous (Gaussian/OLS)] ------------<br/>----------------------------------------------------------------------------------------<br/> Variable Coefficient [a] StdError t-Statistic Probability [b] Robust_SE Robust_t Robust_Pr [b]<br/>Intercept        0.072758 0.025476    2.855978       0.006114*  0.014436 5.040220     0.000006*<br/>  CASEPER        0.002683 0.015004    0.178790       0.858785   0.011440 0.234491     0.815509 <br/>----------------------------------------------------------------------------------------<br/><br/><br/>----------------------------------------------- GLR Diagnostics -----------------------------------------------<br/>---------------------------------------------------------------------------------------------------------------<br/>Input Features:              cb_2018_us_state_500k.shp   Dependent Variable:                            STUVARPER <br/>Number of Observations:                             55   Akaike's Information Criterion (AICc) [d]:   -118.041679 <br/>Multiple R-Squared [d]:                       0.000603   Adjusted R-Squared [d]:                        -0.018254 <br/>Joint F-Statistic [e]:                        0.031966   Prob(>F), (1,53) degrees of freedom:            0.984446 <br/>Joint Wald Statistic [e]:                     0.054986   Prob(>chi-squared), (1) degrees of freedom:     0.814604 <br/>Koenker (BP) Statistic [f]:                   0.498354   Prob(>chi-squared), (1) degrees of freedom:     0.480224 <br/>Jarque-Bera Statistic [g]:                 1054.015893   Prob(>chi-squared), (2) degrees of freedom:     0.000000*<br/>---------------------------------------------------------------------------------------------------------------<br/><br/><br/>Notes on Interpretation<br/> *  An asterisk next to a number indicates a statistically significant p-value (p < 0.01).                                                                                                                                                                                                                                                                <br/>[a] Coefficient: Represents the strength and type of relationship between each explanatory variable and the dependent variable.                                                                                                                                                                                                                           <br/>[b] Probability and Robust Probability (Robust_Pr): Asterisk (*) indicates a coefficient is statistically significant (p < 0.01); if the Koenker (BP) Statistic [f] is statistically significant, use the Robust Probability column (Robust_Pr) to determine coefficient significance.                                                                    <br/>[c] Variance Inflation Factor (VIF): Large Variance Inflation Factor (VIF) values (> 7.5) indicate redundancy among explanatory variables.                                                                                                                                                                                                                <br/>[d] R-Squared and Akaike's Information Criterion (AICc): Measures of model fit/performance.                                                                                                                                                                                                                                                               <br/>[e] Joint F and Wald Statistics: Asterisk (*) indicates overall model significance (p < 0.01); if the Koenker (BP) Statistic [f] is statistically significant, use the Wald Statistic to determine overall model significance.                                                                                                                            <br/>[f] Koenker (BP) Statistic: When this test is statistically significant (p < 0.01), the relationships modeled are not consistent (either due to non-stationarity or heteroskedasticity).  You should rely on the Robust Probabilities (Robust_Pr) to determine coefficient significance and on the Wald Statistic to determine overall model significance.<br/>[g] Jarque-Bera Statistic: When this test is statistically significant (p < 0.01) model predictions are biased (the residuals are not normally distributed).                                                                                                                                                                                              <br/><br/>Succeeded at 2021年5月3日 下午 03:22:32 (Elapsed Time: 0.68 seconds)<br/><style>.rendered_html td, .rendered_html th {text-align: left;}.rendered_html tbody {border: 1px solid black;}</style>"
      ],
      "text/plain": [
       "<Result 'D:\\\\2021-spring\\\\ArcGIS\\\\Project\\\\Analysis\\\\StuVar_Case.shp'>"
      ]
     },
     "execution_count": 24,
     "metadata": {},
     "output_type": "execute_result"
    }
   ],
   "source": [
    "arcpy.stats.GeneralizedLinearRegression(r'stateboundary\\cb_2018_us_state_500k.shp','StuVarPer','CONTINUOUS', r'Analysis\\StuVar_Case.shp','CasePer', None, None, None, None, None)"
   ]
  },
  {
   "cell_type": "code",
   "execution_count": 25,
   "metadata": {},
   "outputs": [
    {
     "data": {
      "text/html": [
       "<h2>Output</h2><table><tr><th>id</th><th>value</th></tr><tr><td>0</td><td>D:\\2021-spring\\ArcGIS\\Project\\Analysis\\Case_StuVar.shp</td></tr><tr><td>1</td><td></td></tr></table><h2>Messages</h2>Start Time: 2021年5月3日 下午 03:22:34<br/>WARNING 001605: Distances for Geographic Coordinates (degrees, minutes, seconds) are analyzed using Chordal Distances in meters.<br/><br/>------------- Summary of GLR Results [Model Type: Continuous (Gaussian/OLS)] ------------<br/>-----------------------------------------------------------------------------------------<br/> Variable Coefficient [a] StdError t-Statistic Probability [b] Robust_SE  Robust_t Robust_Pr [b]<br/>Intercept        1.523167 0.137686   11.062618       0.000000*  0.129123 11.796222     0.000000*<br/>STUVARPER        0.224701 1.256789    0.178790       0.858785   0.851307  0.263949     0.792845 <br/>-----------------------------------------------------------------------------------------<br/><br/><br/>---------------------------------------------- GLR Diagnostics ----------------------------------------------<br/>-------------------------------------------------------------------------------------------------------------<br/>Input Features:              cb_2018_us_state_500k.shp   Dependent Variable:                             CASEPER<br/>Number of Observations:                             55   Akaike's Information Criterion (AICc) [d]:   125.499120<br/>Multiple R-Squared [d]:                       0.000603   Adjusted R-Squared [d]:                       -0.018254<br/>Joint F-Statistic [e]:                        0.031966   Prob(>F), (1,53) degrees of freedom:          0.984446 <br/>Joint Wald Statistic [e]:                     0.069669   Prob(>chi-squared), (1) degrees of freedom:   0.791820 <br/>Koenker (BP) Statistic [f]:                   1.082274   Prob(>chi-squared), (1) degrees of freedom:   0.298189 <br/>Jarque-Bera Statistic [g]:                    0.811695   Prob(>chi-squared), (2) degrees of freedom:   0.666412 <br/>-------------------------------------------------------------------------------------------------------------<br/><br/><br/>Notes on Interpretation<br/> *  An asterisk next to a number indicates a statistically significant p-value (p < 0.01).                                                                                                                                                                                                                                                                <br/>[a] Coefficient: Represents the strength and type of relationship between each explanatory variable and the dependent variable.                                                                                                                                                                                                                           <br/>[b] Probability and Robust Probability (Robust_Pr): Asterisk (*) indicates a coefficient is statistically significant (p < 0.01); if the Koenker (BP) Statistic [f] is statistically significant, use the Robust Probability column (Robust_Pr) to determine coefficient significance.                                                                    <br/>[c] Variance Inflation Factor (VIF): Large Variance Inflation Factor (VIF) values (> 7.5) indicate redundancy among explanatory variables.                                                                                                                                                                                                                <br/>[d] R-Squared and Akaike's Information Criterion (AICc): Measures of model fit/performance.                                                                                                                                                                                                                                                               <br/>[e] Joint F and Wald Statistics: Asterisk (*) indicates overall model significance (p < 0.01); if the Koenker (BP) Statistic [f] is statistically significant, use the Wald Statistic to determine overall model significance.                                                                                                                            <br/>[f] Koenker (BP) Statistic: When this test is statistically significant (p < 0.01), the relationships modeled are not consistent (either due to non-stationarity or heteroskedasticity).  You should rely on the Robust Probabilities (Robust_Pr) to determine coefficient significance and on the Wald Statistic to determine overall model significance.<br/>[g] Jarque-Bera Statistic: When this test is statistically significant (p < 0.01) model predictions are biased (the residuals are not normally distributed).                                                                                                                                                                                              <br/><br/>Succeeded at 2021年5月3日 下午 03:22:34 (Elapsed Time: 0.67 seconds)<br/><style>.rendered_html td, .rendered_html th {text-align: left;}.rendered_html tbody {border: 1px solid black;}</style>"
      ],
      "text/plain": [
       "<Result 'D:\\\\2021-spring\\\\ArcGIS\\\\Project\\\\Analysis\\\\Case_StuVar.shp'>"
      ]
     },
     "execution_count": 25,
     "metadata": {},
     "output_type": "execute_result"
    }
   ],
   "source": [
    "arcpy.stats.GeneralizedLinearRegression(r'stateboundary\\cb_2018_us_state_500k.shp','CasePer','CONTINUOUS', r'Analysis\\Case_StuVar.shp','StuVarPer', None, None, None, None, None)"
   ]
  },
  {
   "cell_type": "code",
   "execution_count": 26,
   "metadata": {},
   "outputs": [
    {
     "data": {
      "text/html": [
       "<h2>Output</h2><table><tr><th>id</th><th>value</th></tr><tr><td>0</td><td>D:\\2021-spring\\ArcGIS\\Project\\Analysis\\StuVar_Pop.shp</td></tr><tr><td>1</td><td></td></tr></table><h2>Messages</h2>Start Time: 2021年5月3日 下午 03:22:38<br/>WARNING 001605: Distances for Geographic Coordinates (degrees, minutes, seconds) are analyzed using Chordal Distances in meters.<br/><br/>--------------- Summary of GLR Results [Model Type: Continuous (Gaussian/OLS)] --------------<br/>---------------------------------------------------------------------------------------------<br/>  Variable Coefficient [a]   StdError t-Statistic Probability [b]  Robust_SE  Robust_t Robust_Pr [b]<br/> Intercept    -1323.163754 635.607366   -2.081731       0.042212* 752.354843 -1.758696     0.084404 <br/>POPULATION        0.001016   0.000068   14.977289       0.000000*   0.000173  5.859826     0.000000*<br/>---------------------------------------------------------------------------------------------<br/><br/><br/>----------------------------------------------- GLR Diagnostics -----------------------------------------------<br/>---------------------------------------------------------------------------------------------------------------<br/>Input Features:              cb_2018_us_state_500k.shp   Dependent Variable:                               STUVAR <br/>Number of Observations:                             55   Akaike's Information Criterion (AICc) [d]:   1061.512897 <br/>Multiple R-Squared [d]:                       0.808884   Adjusted R-Squared [d]:                         0.805279 <br/>Joint F-Statistic [e]:                      224.319177   Prob(>F), (1,53) degrees of freedom:            0.000000*<br/>Joint Wald Statistic [e]:                    34.337557   Prob(>chi-squared), (1) degrees of freedom:     0.000000*<br/>Koenker (BP) Statistic [f]:                  38.223716   Prob(>chi-squared), (1) degrees of freedom:     0.000000*<br/>Jarque-Bera Statistic [g]:                   31.309207   Prob(>chi-squared), (2) degrees of freedom:     0.000000*<br/>---------------------------------------------------------------------------------------------------------------<br/><br/><br/>Notes on Interpretation<br/> *  An asterisk next to a number indicates a statistically significant p-value (p < 0.01).                                                                                                                                                                                                                                                                <br/>[a] Coefficient: Represents the strength and type of relationship between each explanatory variable and the dependent variable.                                                                                                                                                                                                                           <br/>[b] Probability and Robust Probability (Robust_Pr): Asterisk (*) indicates a coefficient is statistically significant (p < 0.01); if the Koenker (BP) Statistic [f] is statistically significant, use the Robust Probability column (Robust_Pr) to determine coefficient significance.                                                                    <br/>[c] Variance Inflation Factor (VIF): Large Variance Inflation Factor (VIF) values (> 7.5) indicate redundancy among explanatory variables.                                                                                                                                                                                                                <br/>[d] R-Squared and Akaike's Information Criterion (AICc): Measures of model fit/performance.                                                                                                                                                                                                                                                               <br/>[e] Joint F and Wald Statistics: Asterisk (*) indicates overall model significance (p < 0.01); if the Koenker (BP) Statistic [f] is statistically significant, use the Wald Statistic to determine overall model significance.                                                                                                                            <br/>[f] Koenker (BP) Statistic: When this test is statistically significant (p < 0.01), the relationships modeled are not consistent (either due to non-stationarity or heteroskedasticity).  You should rely on the Robust Probabilities (Robust_Pr) to determine coefficient significance and on the Wald Statistic to determine overall model significance.<br/>[g] Jarque-Bera Statistic: When this test is statistically significant (p < 0.01) model predictions are biased (the residuals are not normally distributed).                                                                                                                                                                                              <br/><br/>Succeeded at 2021年5月3日 下午 03:22:39 (Elapsed Time: 0.68 seconds)<br/><style>.rendered_html td, .rendered_html th {text-align: left;}.rendered_html tbody {border: 1px solid black;}</style>"
      ],
      "text/plain": [
       "<Result 'D:\\\\2021-spring\\\\ArcGIS\\\\Project\\\\Analysis\\\\StuVar_Pop.shp'>"
      ]
     },
     "execution_count": 26,
     "metadata": {},
     "output_type": "execute_result"
    }
   ],
   "source": [
    "arcpy.stats.GeneralizedLinearRegression(r'stateboundary\\cb_2018_us_state_500k.shp','StuVar','CONTINUOUS', r'Analysis\\StuVar_Pop.shp','Population', None, None, None, None, None)"
   ]
  },
  {
   "cell_type": "code",
   "execution_count": null,
   "metadata": {},
   "outputs": [],
   "source": []
  }
 ],
 "metadata": {
  "kernelspec": {
   "display_name": "Python 3",
   "language": "python",
   "name": "python3"
  },
  "language_info": {
   "codemirror_mode": {
    "name": "ipython",
    "version": 3
   },
   "file_extension": ".py",
   "mimetype": "text/x-python",
   "name": "python",
   "nbconvert_exporter": "python",
   "pygments_lexer": "ipython3",
   "version": "3.7.9"
  }
 },
 "nbformat": 4,
 "nbformat_minor": 4
}
