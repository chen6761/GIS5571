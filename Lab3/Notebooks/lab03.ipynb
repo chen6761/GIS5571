{
 "cells": [
  {
   "cell_type": "markdown",
   "metadata": {},
   "source": [
    "#  Vehicle Routing Problem with ArcPro"
   ]
  },
  {
   "cell_type": "code",
   "execution_count": 2,
   "metadata": {},
   "outputs": [],
   "source": [
    "import arcpy"
   ]
  },
  {
   "cell_type": "code",
   "execution_count": 3,
   "metadata": {},
   "outputs": [
    {
     "data": {
      "text/html": [
       "<h2>Output</h2>a Layer object<h2>Messages</h2>Start Time: 2021年3月28日 下午 02:02:15<br/>New analysis data source feature dataset: C:\\Users\\user\\AppData\\Local\\Temp\\scratch.gdb\\VehicleRoutingProblemw805mc.<br/>Succeeded at 2021年3月28日 下午 02:02:18 (Elapsed Time: 3.55 seconds)<br/><style>.rendered_html td, .rendered_html th {text-align: left;}.rendered_html tbody {border: 1px solid black;}</style>"
      ],
      "text/plain": [
       "<Result 'Vehicle Routing Problem'>"
      ]
     },
     "execution_count": 3,
     "metadata": {},
     "output_type": "execute_result"
    }
   ],
   "source": [
    "# Create the vechicle routing problem analysis layer\n",
    "arcpy.na.MakeVehicleRoutingProblemAnalysisLayer(r\"D:\\2021-spring\\ArcGIS\\Lab3\\lab3\\lab3.gdb\\mn\\mnnetwork\", \n",
    "                                                \"Vehicle Routing Problem\", \n",
    "                                                \"Driving\", \"Minutes\", \"Miles\")"
   ]
  },
  {
   "cell_type": "code",
   "execution_count": 4,
   "metadata": {},
   "outputs": [
    {
     "data": {
      "text/html": [
       "<h2>Output</h2>a Layer object<h2>Messages</h2>Start Time: 2021年3月28日 下午 02:03:06<br/>10 features located out of 10.<br/>Succeeded at 2021年3月28日 下午 02:03:06 (Elapsed Time: 0.63 seconds)<br/><style>.rendered_html td, .rendered_html th {text-align: left;}.rendered_html tbody {border: 1px solid black;}</style>"
      ],
      "text/plain": [
       "<Result 'Vehicle Routing Problem'>"
      ]
     },
     "execution_count": 4,
     "metadata": {},
     "output_type": "execute_result"
    }
   ],
   "source": [
    "# Add the stop locations\n",
    "arcpy.na.AddLocations(\"Vehicle Routing Problem\", \"Orders\", r\"D:\\2021-spring\\ArcGIS\\Lab3\\lab3\\lab3.gdb\\mn\\stops\")"
   ]
  },
  {
   "cell_type": "code",
   "execution_count": 5,
   "metadata": {},
   "outputs": [
    {
     "data": {
      "text/html": [
       "<h2>Output</h2>a Layer object<h2>Messages</h2>Start Time: 2021年3月28日 下午 02:03:49<br/>1 features located out of 1.<br/>Succeeded at 2021年3月28日 下午 02:03:50 (Elapsed Time: 0.54 seconds)<br/><style>.rendered_html td, .rendered_html th {text-align: left;}.rendered_html tbody {border: 1px solid black;}</style>"
      ],
      "text/plain": [
       "<Result 'Vehicle Routing Problem'>"
      ]
     },
     "execution_count": 5,
     "metadata": {},
     "output_type": "execute_result"
    }
   ],
   "source": [
    "# Add the depot location\n",
    "arcpy.na.AddLocations(\"Vehicle Routing Problem\", \"Depots\", r\"D:\\2021-spring\\ArcGIS\\Lab3\\lab3\\lab3.gdb\\mn\\dept\")"
   ]
  },
  {
   "cell_type": "code",
   "execution_count": 6,
   "metadata": {},
   "outputs": [
    {
     "data": {
      "text/html": [
       "<h2>Output</h2>a Layer object<h2>Messages</h2>Start Time: 2021年3月28日 下午 02:05:57<br/>WARNING 030240: Cost Per Unit Time can't contain a null value and has a default value of 1.0.<br/>Succeeded at 2021年3月28日 下午 02:06:08 (Elapsed Time: 10.54 seconds)<br/><style>.rendered_html td, .rendered_html th {text-align: left;}.rendered_html tbody {border: 1px solid black;}</style>"
      ],
      "text/plain": [
       "<Result 'Vehicle Routing Problem'>"
      ]
     },
     "execution_count": 6,
     "metadata": {},
     "output_type": "execute_result"
    }
   ],
   "source": [
    "# Add the routes\n",
    "arcpy.na.AddVehicleRoutingProblemRoutes(\"Vehicle Routing Problem\", 2, \"Route\", \n",
    "                                        \"1436 Lone Oak Rd, Saint Paul, Minnesota, 55121\", \"1436 Lone Oak Rd, Saint Paul, Minnesota, 55121\", \n",
    "                                        \"上午 08:00:00\", \"上午 08:00:00\", 10, None, None, None, None, \"APPEND\")"
   ]
  },
  {
   "cell_type": "code",
   "execution_count": 7,
   "metadata": {},
   "outputs": [
    {
     "data": {
      "text/html": [
       "<h2>Output</h2>a Layer object<h2>Messages</h2>Start Time: 2021年3月28日 下午 02:11:06<br/>2 features located out of 2.<br/>Succeeded at 2021年3月28日 下午 02:13:44 (Elapsed Time: 2 minutes 37 seconds)<br/><style>.rendered_html td, .rendered_html th {text-align: left;}.rendered_html tbody {border: 1px solid black;}</style>"
      ],
      "text/plain": [
       "<Result 'Vehicle Routing Problem'>"
      ]
     },
     "execution_count": 7,
     "metadata": {},
     "output_type": "execute_result"
    }
   ],
   "source": [
    "# Add the highway 35W and highway 94 as line barriers\n",
    "arcpy.na.AddLocations(\"Vehicle Routing Problem\", \"Line Barriers\", r\"D:\\2021-spring\\ArcGIS\\Lab3\\lab3\\lab3.gdb\\highway_Dissolve\")"
   ]
  },
  {
   "cell_type": "code",
   "execution_count": 8,
   "metadata": {},
   "outputs": [
    {
     "data": {
      "text/html": [
       "<h2>Output</h2><table><tr><th>id</th><th>value</th></tr><tr><td>0</td><td>a Layer object</td></tr><tr><td>1</td><td>true</td></tr></table><h2>Messages</h2>Start Time: 2021年3月28日 下午 02:15:51<br/>Succeeded at 2021年3月28日 下午 02:15:55 (Elapsed Time: 3.16 seconds)<br/><style>.rendered_html td, .rendered_html th {text-align: left;}.rendered_html tbody {border: 1px solid black;}</style>"
      ],
      "text/plain": [
       "<Result 'Vehicle Routing Problem'>"
      ]
     },
     "execution_count": 8,
     "metadata": {},
     "output_type": "execute_result"
    }
   ],
   "source": [
    "# Solve the routing problems and get the routes\n",
    "arcpy.na.Solve(\"Vehicle Routing Problem\", \"HALT\", \"TERMINATE\", None, '')"
   ]
  },
  {
   "cell_type": "markdown",
   "metadata": {},
   "source": [
    "#  Vehicle Routing Problem with ArcOnline"
   ]
  },
  {
   "cell_type": "code",
   "execution_count": 30,
   "metadata": {},
   "outputs": [
    {
     "data": {
      "text/html": [
       "<h2>Output</h2>a Layer object<h2>Messages</h2>Start Time: 2021年3月28日 下午 06:04:15<br/>New analysis data source feature dataset: C:\\Users\\user\\AppData\\Local\\Temp\\scratch.gdb\\VehicleRoutingProblem1y3v8do.<br/>Succeeded at 2021年3月28日 下午 06:04:18 (Elapsed Time: 2.83 seconds)<br/><style>.rendered_html td, .rendered_html th {text-align: left;}.rendered_html tbody {border: 1px solid black;}</style>"
      ],
      "text/plain": [
       "<Result 'Vehicle Routing Problem 1'>"
      ]
     },
     "execution_count": 30,
     "metadata": {},
     "output_type": "execute_result"
    }
   ],
   "source": [
    "# Create the vechicle routing problem analysis layer\n",
    "arcpy.na.MakeVehicleRoutingProblemAnalysisLayer(\"https://www.arcgis.com/\", \n",
    "                                                \"Vehicle Routing Problem 1\", \n",
    "                                                \"Driving Time\", \"Minutes\", \"Miles\")"
   ]
  },
  {
   "cell_type": "code",
   "execution_count": 31,
   "metadata": {},
   "outputs": [
    {
     "data": {
      "text/html": [
       "<h2>Output</h2>a Layer object<h2>Messages</h2>Start Time: 2021年3月28日 下午 06:04:21<br/>10 features located out of 10.<br/>Succeeded at 2021年3月28日 下午 06:04:21 (Elapsed Time: 0.33 seconds)<br/><style>.rendered_html td, .rendered_html th {text-align: left;}.rendered_html tbody {border: 1px solid black;}</style>"
      ],
      "text/plain": [
       "<Result 'Vehicle Routing Problem 1'>"
      ]
     },
     "execution_count": 31,
     "metadata": {},
     "output_type": "execute_result"
    }
   ],
   "source": [
    "# Add the stop locations\n",
    "arcpy.na.AddLocations(\"Vehicle Routing Problem 1\", \"Orders\", r\"D:\\2021-spring\\ArcGIS\\Lab3\\lab3\\lab3.gdb\\mn\\stops\")"
   ]
  },
  {
   "cell_type": "code",
   "execution_count": 32,
   "metadata": {},
   "outputs": [
    {
     "data": {
      "text/html": [
       "<h2>Output</h2>a Layer object<h2>Messages</h2>Start Time: 2021年3月28日 下午 06:04:25<br/>1 features located out of 1.<br/>Succeeded at 2021年3月28日 下午 06:04:25 (Elapsed Time: 0.32 seconds)<br/><style>.rendered_html td, .rendered_html th {text-align: left;}.rendered_html tbody {border: 1px solid black;}</style>"
      ],
      "text/plain": [
       "<Result 'Vehicle Routing Problem 1'>"
      ]
     },
     "execution_count": 32,
     "metadata": {},
     "output_type": "execute_result"
    }
   ],
   "source": [
    "# Add the depot location\n",
    "arcpy.na.AddLocations(\"Vehicle Routing Problem 1\", \"Depots\", r\"D:\\2021-spring\\ArcGIS\\Lab3\\lab3\\lab3.gdb\\mn\\dept\")"
   ]
  },
  {
   "cell_type": "code",
   "execution_count": 33,
   "metadata": {},
   "outputs": [
    {
     "data": {
      "text/html": [
       "<h2>Output</h2>a Layer object<h2>Messages</h2>Start Time: 2021年3月28日 下午 06:04:29<br/>186 features located out of 186.<br/>Succeeded at 2021年3月28日 下午 06:04:29 (Elapsed Time: 0.40 seconds)<br/><style>.rendered_html td, .rendered_html th {text-align: left;}.rendered_html tbody {border: 1px solid black;}</style>"
      ],
      "text/plain": [
       "<Result 'Vehicle Routing Problem 1'>"
      ]
     },
     "execution_count": 33,
     "metadata": {},
     "output_type": "execute_result"
    }
   ],
   "source": [
    "# Add the highway 35W and highway 94 as line barriers\n",
    "arcpy.na.AddLocations(\"Vehicle Routing Problem 1\", \"Line Barriers\", r\"D:\\2021-spring\\ArcGIS\\Lab3\\lab3\\lab3.gdb\\mn\\highway\")"
   ]
  },
  {
   "cell_type": "code",
   "execution_count": 34,
   "metadata": {},
   "outputs": [
    {
     "data": {
      "text/html": [
       "<h2>Output</h2>a Layer object<h2>Messages</h2>Start Time: 2021年3月28日 下午 06:04:39<br/>WARNING 030240: Cost Per Unit Time can't contain a null value and has a default value of 1.0.<br/>Succeeded at 2021年3月28日 下午 06:04:47 (Elapsed Time: 7.93 seconds)<br/><style>.rendered_html td, .rendered_html th {text-align: left;}.rendered_html tbody {border: 1px solid black;}</style>"
      ],
      "text/plain": [
       "<Result 'Vehicle Routing Problem 1'>"
      ]
     },
     "execution_count": 34,
     "metadata": {},
     "output_type": "execute_result"
    }
   ],
   "source": [
    "# Add the routes\n",
    "arcpy.na.AddVehicleRoutingProblemRoutes(\"Vehicle Routing Problem 1\", 2, \"Route\", \n",
    "                                        \"1436 Lone Oak Rd, Saint Paul, Minnesota, 55121\", \"1436 Lone Oak Rd, Saint Paul, Minnesota, 55121\", \n",
    "                                        \"上午 08:00:00\", \"上午 08:00:00\", 10, None, None, None, None, \"APPEND\")"
   ]
  },
  {
   "cell_type": "code",
   "execution_count": 35,
   "metadata": {},
   "outputs": [
    {
     "data": {
      "text/html": [
       "<h2>Output</h2><table><tr><th>id</th><th>value</th></tr><tr><td>0</td><td>a Layer object</td></tr><tr><td>1</td><td>true</td></tr></table><h2>Messages</h2>Start Time: 2021年3月28日 下午 06:05:25<br/>Executing network analysis service Job Id: \"j5f12af07681c43babdd9e4fbaa7d59a0\".<br/>Submitted.<br/>Executing...<br/>Network elements with avoid-restrictions are traversed in the output (restriction attribute names: \"Through Traffic Prohibited\").<br/>Succeeded.<br/>Succeeded at 2021年3月28日 下午 06:05:50 (Elapsed Time: 24.89 seconds)<br/><style>.rendered_html td, .rendered_html th {text-align: left;}.rendered_html tbody {border: 1px solid black;}</style>"
      ],
      "text/plain": [
       "<Result 'Vehicle Routing Problem 1'>"
      ]
     },
     "execution_count": 35,
     "metadata": {},
     "output_type": "execute_result"
    }
   ],
   "source": [
    "# Solve the routing problems and get the routes\n",
    "arcpy.na.Solve(\"Vehicle Routing Problem 1\", \"HALT\", \"TERMINATE\", None, '')"
   ]
  },
  {
   "cell_type": "code",
   "execution_count": null,
   "metadata": {},
   "outputs": [],
   "source": []
  }
 ],
 "metadata": {
  "kernelspec": {
   "display_name": "Python 3",
   "language": "python",
   "name": "python3"
  },
  "language_info": {
   "codemirror_mode": {
    "name": "ipython",
    "version": 3
   },
   "file_extension": ".py",
   "mimetype": "text/x-python",
   "name": "python",
   "nbconvert_exporter": "python",
   "pygments_lexer": "ipython3",
   "version": "3.7.9"
  }
 },
 "nbformat": 4,
 "nbformat_minor": 4
}
