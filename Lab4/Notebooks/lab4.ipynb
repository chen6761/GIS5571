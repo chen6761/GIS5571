{
 "cells": [
  {
   "cell_type": "markdown",
   "metadata": {},
   "source": [
    "# Compare the Interpolation Methods"
   ]
  },
  {
   "cell_type": "code",
   "execution_count": 1,
   "metadata": {},
   "outputs": [],
   "source": [
    "# Import the necessary modules\n",
    "import requests\n",
    "import pandas as pd\n",
    "from bs4 import BeautifulSoup\n",
    "from datetime import date\n",
    "import arcpy"
   ]
  },
  {
   "cell_type": "code",
   "execution_count": 2,
   "metadata": {},
   "outputs": [],
   "source": [
    "# Set the variable for the URL of data page\n",
    "data = f\"https://ndawn.ndsu.nodak.edu/get-table.html?station=78&station=111&station=98&station=142&station=138&station=9&station=10&station=118&station=56&station=11&station=12&station=58&station=13&station=84&station=55&station=7&station=87&station=14&station=15&station=96&station=16&station=137&station=124&station=17&station=85&station=140&station=134&station=18&station=136&station=65&station=104&station=99&station=19&station=129&station=20&station=101&station=81&station=21&station=97&station=22&station=75&station=2&station=139&station=23&station=62&station=86&station=24&station=89&station=126&station=93&station=90&station=25&station=83&station=107&station=77&station=26&station=70&station=127&station=27&station=132&station=28&station=29&station=30&station=31&station=102&station=32&station=119&station=4&station=80&station=33&station=59&station=105&station=82&station=34&station=72&station=135&station=35&station=76&station=120&station=141&station=109&station=36&station=79&station=71&station=37&station=38&station=39&station=130&station=73&station=40&station=41&station=54&station=69&station=113&station=128&station=42&station=43&station=103&station=116&station=88&station=114&station=3&station=64&station=115&station=67&station=44&station=133&station=106&station=100&station=121&station=45&station=46&station=61&station=66&station=74&station=60&station=125&station=8&station=47&station=122&station=108&station=5&station=48&station=68&station=49&station=50&station=91&station=117&station=63&station=51&station=6&station=52&station=92&station=112&station=131&station=123&station=95&station=53&station=57&station=110&variable=ddavt&year=2021&ttype=daily&quick_pick=30_d&begin_date={date.today()}&end_date={date.today()}\""
   ]
  },
  {
   "cell_type": "code",
   "execution_count": 3,
   "metadata": {},
   "outputs": [],
   "source": [
    "# Get the website data\n",
    "page = requests.get(data)"
   ]
  },
  {
   "cell_type": "code",
   "execution_count": 4,
   "metadata": {},
   "outputs": [],
   "source": [
    "# Build the BeautifulSoup item from the website data\n",
    "parser = BeautifulSoup(page.text,\"html.parser\")"
   ]
  },
  {
   "cell_type": "code",
   "execution_count": 5,
   "metadata": {},
   "outputs": [],
   "source": [
    "# Find the string includes \"Export CSV File\"\n",
    "target = parser.find_all(\"a\", string=\"Export CSV File\")"
   ]
  },
  {
   "cell_type": "code",
   "execution_count": 6,
   "metadata": {},
   "outputs": [],
   "source": [
    "# Add the original url in front of the link \n",
    "for link in target:\n",
    "    url=\"https://ndawn.ndsu.nodak.edu\"+link.get('href')"
   ]
  },
  {
   "cell_type": "code",
   "execution_count": 7,
   "metadata": {},
   "outputs": [
    {
     "data": {
      "text/plain": [
       "202761"
      ]
     },
     "execution_count": 7,
     "metadata": {},
     "output_type": "execute_result"
    }
   ],
   "source": [
    "# Get the data and save it as a CSV file\n",
    "r = requests.get(url, allow_redirects=True)\n",
    "open('weather.csv', 'wb').write(r.content)"
   ]
  },
  {
   "cell_type": "code",
   "execution_count": 8,
   "metadata": {},
   "outputs": [],
   "source": [
    "# Start read the CSV from row 4th to the data frame\n",
    "df=pd.read_csv(\"weather.csv\",delimiter=\"\\t\",header=4)"
   ]
  },
  {
   "cell_type": "code",
   "execution_count": 9,
   "metadata": {},
   "outputs": [],
   "source": [
    "# Change the column name into \"feature\"\n",
    "df.columns=[\"features\"]"
   ]
  },
  {
   "cell_type": "code",
   "execution_count": 10,
   "metadata": {},
   "outputs": [],
   "source": [
    "# Separate the contents based on commas and set new colums to them\n",
    "df[['Station Name','Latitude','Longitude','Elevation','Year','Month','Day','AvgTemp','AvgTempFlag']] = df.features.str.split(',', expand=True)"
   ]
  },
  {
   "cell_type": "code",
   "execution_count": 11,
   "metadata": {},
   "outputs": [
    {
     "data": {
      "text/html": [
       "<div>\n",
       "<style scoped>\n",
       "    .dataframe tbody tr th:only-of-type {\n",
       "        vertical-align: middle;\n",
       "    }\n",
       "\n",
       "    .dataframe tbody tr th {\n",
       "        vertical-align: top;\n",
       "    }\n",
       "\n",
       "    .dataframe thead th {\n",
       "        text-align: right;\n",
       "    }\n",
       "</style>\n",
       "<table border=\"1\" class=\"dataframe\">\n",
       "  <thead>\n",
       "    <tr style=\"text-align: right;\">\n",
       "      <th></th>\n",
       "      <th>Station Name</th>\n",
       "      <th>Latitude</th>\n",
       "      <th>Longitude</th>\n",
       "      <th>Elevation</th>\n",
       "      <th>AvgTemp</th>\n",
       "    </tr>\n",
       "  </thead>\n",
       "  <tbody>\n",
       "    <tr>\n",
       "      <th>0</th>\n",
       "      <td>Ada</td>\n",
       "      <td>47.3211</td>\n",
       "      <td>-96.5139</td>\n",
       "      <td>910</td>\n",
       "      <td>33.376</td>\n",
       "    </tr>\n",
       "    <tr>\n",
       "      <th>1</th>\n",
       "      <td>Ada</td>\n",
       "      <td>47.3211</td>\n",
       "      <td>-96.5139</td>\n",
       "      <td>910</td>\n",
       "      <td>33.611</td>\n",
       "    </tr>\n",
       "    <tr>\n",
       "      <th>2</th>\n",
       "      <td>Ada</td>\n",
       "      <td>47.3211</td>\n",
       "      <td>-96.5139</td>\n",
       "      <td>910</td>\n",
       "      <td>40.395</td>\n",
       "    </tr>\n",
       "    <tr>\n",
       "      <th>3</th>\n",
       "      <td>Ada</td>\n",
       "      <td>47.3211</td>\n",
       "      <td>-96.5139</td>\n",
       "      <td>910</td>\n",
       "      <td>50.546</td>\n",
       "    </tr>\n",
       "    <tr>\n",
       "      <th>4</th>\n",
       "      <td>Ada</td>\n",
       "      <td>47.3211</td>\n",
       "      <td>-96.5139</td>\n",
       "      <td>910</td>\n",
       "      <td>42.461</td>\n",
       "    </tr>\n",
       "    <tr>\n",
       "      <th>...</th>\n",
       "      <td>...</td>\n",
       "      <td>...</td>\n",
       "      <td>...</td>\n",
       "      <td>...</td>\n",
       "      <td>...</td>\n",
       "    </tr>\n",
       "    <tr>\n",
       "      <th>3925</th>\n",
       "      <td>Zeeland</td>\n",
       "      <td>46.013378</td>\n",
       "      <td>-99.687587</td>\n",
       "      <td>2070</td>\n",
       "      <td>36.447</td>\n",
       "    </tr>\n",
       "    <tr>\n",
       "      <th>3926</th>\n",
       "      <td>Zeeland</td>\n",
       "      <td>46.013378</td>\n",
       "      <td>-99.687587</td>\n",
       "      <td>2070</td>\n",
       "      <td>29.455</td>\n",
       "    </tr>\n",
       "    <tr>\n",
       "      <th>3927</th>\n",
       "      <td>Zeeland</td>\n",
       "      <td>46.013378</td>\n",
       "      <td>-99.687587</td>\n",
       "      <td>2070</td>\n",
       "      <td>24.417</td>\n",
       "    </tr>\n",
       "    <tr>\n",
       "      <th>3928</th>\n",
       "      <td>Zeeland</td>\n",
       "      <td>46.013378</td>\n",
       "      <td>-99.687587</td>\n",
       "      <td>2070</td>\n",
       "      <td>31.173</td>\n",
       "    </tr>\n",
       "    <tr>\n",
       "      <th>3929</th>\n",
       "      <td>Zeeland</td>\n",
       "      <td>46.013378</td>\n",
       "      <td>-99.687587</td>\n",
       "      <td>2070</td>\n",
       "      <td>37.556</td>\n",
       "    </tr>\n",
       "  </tbody>\n",
       "</table>\n",
       "<p>3930 rows × 5 columns</p>\n",
       "</div>"
      ],
      "text/plain": [
       "     Station Name   Latitude   Longitude Elevation AvgTemp\n",
       "0             Ada    47.3211    -96.5139       910  33.376\n",
       "1             Ada    47.3211    -96.5139       910  33.611\n",
       "2             Ada    47.3211    -96.5139       910  40.395\n",
       "3             Ada    47.3211    -96.5139       910  50.546\n",
       "4             Ada    47.3211    -96.5139       910  42.461\n",
       "...           ...        ...         ...       ...     ...\n",
       "3925      Zeeland  46.013378  -99.687587      2070  36.447\n",
       "3926      Zeeland  46.013378  -99.687587      2070  29.455\n",
       "3927      Zeeland  46.013378  -99.687587      2070  24.417\n",
       "3928      Zeeland  46.013378  -99.687587      2070  31.173\n",
       "3929      Zeeland  46.013378  -99.687587      2070  37.556\n",
       "\n",
       "[3930 rows x 5 columns]"
      ]
     },
     "execution_count": 11,
     "metadata": {},
     "output_type": "execute_result"
    }
   ],
   "source": [
    "# Eliminate unnecessary columns\n",
    "df.drop(['features','Year','Month','Day','AvgTempFlag'], axis=1)"
   ]
  },
  {
   "cell_type": "code",
   "execution_count": 12,
   "metadata": {},
   "outputs": [],
   "source": [
    "# Change the datatype to make them calculable\n",
    "df['Latitude'] = df['Latitude'].astype('float64')\n",
    "df['Longitude'] = df['Longitude'].astype('float64')\n",
    "df['Elevation'] = df['Elevation'].astype('float64')\n",
    "df['AvgTemp'] = df['AvgTemp'].astype('float64')"
   ]
  },
  {
   "cell_type": "code",
   "execution_count": 13,
   "metadata": {},
   "outputs": [],
   "source": [
    "# Calculate the average temperature based on the same station \n",
    "AvgTemp=df.groupby(\"Station Name\").mean()"
   ]
  },
  {
   "cell_type": "code",
   "execution_count": 14,
   "metadata": {},
   "outputs": [],
   "source": [
    "# Save as a new CSV file for importing into ArcGIS Pro\n",
    "AvgTemp.to_csv(r'D:\\2021-spring\\ArcGIS\\Lab4\\lab04\\lab04.gdb\\AvgTemp.csv')"
   ]
  },
  {
   "cell_type": "code",
   "execution_count": 15,
   "metadata": {},
   "outputs": [],
   "source": [
    "# Set up the Arcpy environment\n",
    "arcpy.env.workspace = r\"D:\\2021-spring\\ArcGIS\\Lab4\\lab04\\lab04.gdb\""
   ]
  },
  {
   "cell_type": "code",
   "execution_count": 16,
   "metadata": {},
   "outputs": [],
   "source": [
    "aprx = arcpy.mp.ArcGISProject(r'D:\\2021-spring\\ArcGIS\\Lab4\\lab04\\lab4.aprx')"
   ]
  },
  {
   "cell_type": "code",
   "execution_count": 17,
   "metadata": {},
   "outputs": [
    {
     "data": {
      "text/html": [
       "<h2>Output</h2>D:\\2021-spring\\ArcGIS\\Lab4\\lab04\\lab04.gdb\\AvgTemp<h2>Messages</h2>Start Time: 2021年4月16日 下午 05:34:17<br/>Succeeded at 2021年4月16日 下午 05:34:18 (Elapsed Time: 0.90 seconds)<br/><style>.rendered_html td, .rendered_html th {text-align: left;}.rendered_html tbody {border: 1px solid black;}</style>"
      ],
      "text/plain": [
       "<Result 'D:\\\\2021-spring\\\\ArcGIS\\\\Lab4\\\\lab04\\\\lab04.gdb\\\\AvgTemp'>"
      ]
     },
     "execution_count": 17,
     "metadata": {},
     "output_type": "execute_result"
    }
   ],
   "source": [
    "# Import the CSV data into ArcGIS Pro based on the coordinate\n",
    "arcpy.management.XYTableToPoint(r\"D:\\2021-spring\\ArcGIS\\Lab4\\lab04\\AvgTemp.csv\", \"AvgTemp\", \"Longitude\", \"Latitude\") "
   ]
  },
  {
   "cell_type": "code",
   "execution_count": 18,
   "metadata": {},
   "outputs": [],
   "source": [
    "AvgTemp = aprx.listLayouts(\"AvgTemp\")[0]"
   ]
  },
  {
   "cell_type": "code",
   "execution_count": 19,
   "metadata": {},
   "outputs": [
    {
     "data": {
      "text/plain": [
       "'D:\\\\2021-spring\\\\ArcGIS\\\\Lab4\\\\AvgTemp.pdf'"
      ]
     },
     "execution_count": 19,
     "metadata": {},
     "output_type": "execute_result"
    }
   ],
   "source": [
    "# Save the average temperature map\n",
    "AvgTemp.exportToPDF(r'D:\\2021-spring\\ArcGIS\\Lab4\\AvgTemp')"
   ]
  },
  {
   "cell_type": "code",
   "execution_count": 20,
   "metadata": {},
   "outputs": [
    {
     "data": {
      "text/html": [
       "<h2>Output</h2><table><tr><th>id</th><th>value</th></tr><tr><td>0</td><td>a Layer object</td></tr><tr><td>1</td><td></td></tr></table><h2>Messages</h2>Start Time: 2021年4月16日 下午 05:34:49<br/>Succeeded at 2021年4月16日 下午 05:34:49 (Elapsed Time: 0.15 seconds)<br/><style>.rendered_html td, .rendered_html th {text-align: left;}.rendered_html tbody {border: 1px solid black;}</style>"
      ],
      "text/plain": [
       "<Result 'IDW'>"
      ]
     },
     "execution_count": 20,
     "metadata": {},
     "output_type": "execute_result"
    }
   ],
   "source": [
    "# Execute IDW interpolation\n",
    "arcpy.ga.IDW(r\"D:\\2021-spring\\ArcGIS\\Lab4\\lab04\\lab04.gdb\\AvgTemp\", \"AvgTemp\", \"IDW\")"
   ]
  },
  {
   "cell_type": "code",
   "execution_count": 21,
   "metadata": {},
   "outputs": [
    {
     "data": {
      "text/html": [
       "<h2>Output</h2><table><tr><th>id</th><th>value</th></tr><tr><td>0</td><td>a Layer object</td></tr><tr><td>1</td><td></td></tr></table><h2>Messages</h2>Start Time: 2021年4月16日 下午 05:34:51<br/>\r",
       "<br/>Warning(s) for dataset: Length of the radius of the search circle = 3.2203e+05 meters.<br/>Succeeded at 2021年4月16日 下午 05:34:51 (Elapsed Time: 0.16 seconds)<br/><style>.rendered_html td, .rendered_html th {text-align: left;}.rendered_html tbody {border: 1px solid black;}</style>"
      ],
      "text/plain": [
       "<Result 'EBK'>"
      ]
     },
     "execution_count": 21,
     "metadata": {},
     "output_type": "execute_result"
    }
   ],
   "source": [
    "# Execute EBK interpolation\n",
    "arcpy.ga.EmpiricalBayesianKriging(r\"D:\\2021-spring\\ArcGIS\\Lab4\\lab04\\lab04.gdb\\AvgTemp\", \"AvgTemp\", \"EBK\")"
   ]
  },
  {
   "cell_type": "code",
   "execution_count": 22,
   "metadata": {},
   "outputs": [
    {
     "data": {
      "text/html": [
       "<h2>Output</h2><table><tr><th>id</th><th>value</th></tr><tr><td>0</td><td>a Layer object</td></tr><tr><td>1</td><td></td></tr></table><h2>Messages</h2>Start Time: 2021年4月16日 下午 05:34:52<br/>Succeeded at 2021年4月16日 下午 05:34:52 (Elapsed Time: 0.16 seconds)<br/><style>.rendered_html td, .rendered_html th {text-align: left;}.rendered_html tbody {border: 1px solid black;}</style>"
      ],
      "text/plain": [
       "<Result 'RBF'>"
      ]
     },
     "execution_count": 22,
     "metadata": {},
     "output_type": "execute_result"
    }
   ],
   "source": [
    "# Execute RBF interpolation\n",
    "arcpy.ga.RadialBasisFunctions(r\"D:\\2021-spring\\ArcGIS\\Lab4\\lab04\\lab04.gdb\\AvgTemp\", \"AvgTemp\", \"RBF\")"
   ]
  },
  {
   "cell_type": "code",
   "execution_count": 23,
   "metadata": {},
   "outputs": [],
   "source": [
    "IDW = aprx.listLayouts(\"IDW\")[0]"
   ]
  },
  {
   "cell_type": "code",
   "execution_count": 24,
   "metadata": {},
   "outputs": [
    {
     "data": {
      "text/plain": [
       "'D:\\\\2021-spring\\\\ArcGIS\\\\Lab4\\\\IDW.pdf'"
      ]
     },
     "execution_count": 24,
     "metadata": {},
     "output_type": "execute_result"
    }
   ],
   "source": [
    "# Save the average temperature map with IDW interpolation\n",
    "IDW.exportToPDF(r'D:\\2021-spring\\ArcGIS\\Lab4\\IDW')"
   ]
  },
  {
   "cell_type": "code",
   "execution_count": 25,
   "metadata": {},
   "outputs": [],
   "source": [
    "EBK = aprx.listLayouts(\"EBK\")[0]"
   ]
  },
  {
   "cell_type": "code",
   "execution_count": 26,
   "metadata": {},
   "outputs": [
    {
     "data": {
      "text/plain": [
       "'D:\\\\2021-spring\\\\ArcGIS\\\\Lab4\\\\EBK.pdf'"
      ]
     },
     "execution_count": 26,
     "metadata": {},
     "output_type": "execute_result"
    }
   ],
   "source": [
    "# Save the average temperature map with EBK interpolation\n",
    "EBK.exportToPDF(r'D:\\2021-spring\\ArcGIS\\Lab4\\EBK')"
   ]
  },
  {
   "cell_type": "code",
   "execution_count": 27,
   "metadata": {},
   "outputs": [],
   "source": [
    "RBF = aprx.listLayouts(\"RBF\")[0]"
   ]
  },
  {
   "cell_type": "code",
   "execution_count": 28,
   "metadata": {},
   "outputs": [
    {
     "data": {
      "text/plain": [
       "'D:\\\\2021-spring\\\\ArcGIS\\\\Lab4\\\\RBF.pdf'"
      ]
     },
     "execution_count": 28,
     "metadata": {},
     "output_type": "execute_result"
    }
   ],
   "source": [
    "# Save the average temperature map with RBF interpolation\n",
    "RBF.exportToPDF(r'D:\\2021-spring\\ArcGIS\\Lab4\\RBF')"
   ]
  }
 ],
 "metadata": {
  "kernelspec": {
   "display_name": "Python 3",
   "language": "python",
   "name": "python3"
  },
  "language_info": {
   "codemirror_mode": {
    "name": "ipython",
    "version": 3
   },
   "file_extension": ".py",
   "mimetype": "text/x-python",
   "name": "python",
   "nbconvert_exporter": "python",
   "pygments_lexer": "ipython3",
   "version": "3.7.9"
  }
 },
 "nbformat": 4,
 "nbformat_minor": 4
}
