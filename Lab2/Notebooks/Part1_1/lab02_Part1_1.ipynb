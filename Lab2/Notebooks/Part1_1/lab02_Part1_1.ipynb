{
 "cells": [
  {
   "cell_type": "code",
   "execution_count": 2,
   "metadata": {},
   "outputs": [],
   "source": [
    "# Import the necessary modules\n",
    "import requests\n",
    "from bs4 import BeautifulSoup\n",
    "import arcpy\n",
    "import os"
   ]
  },
  {
   "cell_type": "code",
   "execution_count": 2,
   "metadata": {},
   "outputs": [],
   "source": [
    "# Set the variable for the URL of data page\n",
    "data = \"https://resources.gisdata.mn.gov/pub/data/elevation/lidar/examples/lidar_sample/las/\""
   ]
  },
  {
   "cell_type": "code",
   "execution_count": 3,
   "metadata": {},
   "outputs": [],
   "source": [
    "# Get the website data\n",
    "page = requests.get(data)"
   ]
  },
  {
   "cell_type": "code",
   "execution_count": 4,
   "metadata": {},
   "outputs": [],
   "source": [
    "# Build the BeautifulSoup item from the website data\n",
    "parser = BeautifulSoup(page.text,\"html.parser\")"
   ]
  },
  {
   "cell_type": "code",
   "execution_count": 5,
   "metadata": {},
   "outputs": [],
   "source": [
    "# Find the string includes \"4342-12-05.las\"\n",
    "target = parser.find_all('a',string='4342-14-05.las')"
   ]
  },
  {
   "cell_type": "code",
   "execution_count": 6,
   "metadata": {},
   "outputs": [],
   "source": [
    "# Add the original url in front of the link \n",
    "for link in target:\n",
    "    dwn='https://resources.gisdata.mn.gov/pub/data/elevation/lidar/examples/lidar_sample/las/'+ link.get('href')"
   ]
  },
  {
   "cell_type": "code",
   "execution_count": 12,
   "metadata": {},
   "outputs": [
    {
     "data": {
      "text/plain": [
       "349403619"
      ]
     },
     "execution_count": 12,
     "metadata": {},
     "output_type": "execute_result"
    }
   ],
   "source": [
    "# Get the data and save it \n",
    "r = requests.get(dwn, allow_redirects=True)\n",
    "open(r'D:\\2021-spring\\ArcGIS\\Lab2\\Lab2\\4342-14-05.las', 'wb').write(r.content)"
   ]
  },
  {
   "cell_type": "code",
   "execution_count": 13,
   "metadata": {},
   "outputs": [
    {
     "data": {
      "text/html": [
       "<h2>Output</h2>D:\\2021-spring\\ArcGIS\\Lab2\\Lab2\\TIN_1405<h2>Messages</h2>Start Time: 2021年2月17日 上午 12:23:08<br/>Succeeded at 2021年2月17日 上午 12:23:30 (Elapsed Time: 21.93 seconds)<br/><style>.rendered_html td, .rendered_html th {text-align: left;}.rendered_html tbody {border: 1px solid black;}</style>"
      ],
      "text/plain": [
       "<Result 'D:\\\\2021-spring\\\\ArcGIS\\\\Lab2\\\\Lab2\\\\TIN_1405'>"
      ]
     },
     "execution_count": 13,
     "metadata": {},
     "output_type": "execute_result"
    }
   ],
   "source": [
    "# Convert the las data to TIN\n",
    "arcpy.env.workspace = r'D:\\2021-spring\\ArcGIS\\Lab2\\Lab2'\n",
    "arcpy.LasDatasetToTin_3d('4342-14-05.las', 'TIN_1405','NONE', '', None, 100000000, 1, \"CLIP\")"
   ]
  },
  {
   "cell_type": "code",
   "execution_count": 14,
   "metadata": {
    "scrolled": true
   },
   "outputs": [
    {
     "data": {
      "text/html": [
       "<h2>Output</h2>D:\\2021-spring\\ArcGIS\\Lab2\\Lab2\\DEM_1405<h2>Messages</h2>Start Time: 2021年2月17日 上午 12:24:11<br/>Succeeded at 2021年2月17日 上午 12:24:14 (Elapsed Time: 2.82 seconds)<br/><style>.rendered_html td, .rendered_html th {text-align: left;}.rendered_html tbody {border: 1px solid black;}</style>"
      ],
      "text/plain": [
       "<Result 'D:\\\\2021-spring\\\\ArcGIS\\\\Lab2\\\\Lab2\\\\DEM_1405'>"
      ]
     },
     "execution_count": 14,
     "metadata": {},
     "output_type": "execute_result"
    }
   ],
   "source": [
    "# Convert the las data to DEM\n",
    "arcpy.conversion.LasDatasetToRaster(\"4342-14-05.las\", 'DEM_1405')"
   ]
  },
  {
   "cell_type": "code",
   "execution_count": 4,
   "metadata": {},
   "outputs": [
    {
     "data": {
      "text/plain": [
       "<arcpy._mp.Layer at 0x22aaee3c608>"
      ]
     },
     "execution_count": 4,
     "metadata": {},
     "output_type": "execute_result"
    }
   ],
   "source": [
    "\n",
    "dem_path = r'D:\\2021-spring\\ArcGIS\\Lab2\\Lab2\\dem_1405'\n",
    "\n",
    "aprx = arcpy.mp.ArcGISProject(r'D:\\2021-spring\\ArcGIS\\Lab2\\Lab2\\Lab2.aprx')\n",
    "dem = aprx.listMaps()[0]  \n",
    "dem.addDataFromPath(dem_path)"
   ]
  },
  {
   "cell_type": "code",
   "execution_count": 7,
   "metadata": {},
   "outputs": [
    {
     "data": {
      "text/plain": [
       "<arcpy._mp.Layer at 0x22aa71d6608>"
      ]
     },
     "execution_count": 7,
     "metadata": {},
     "output_type": "execute_result"
    }
   ],
   "source": [
    "tin_path = r'D:\\2021-spring\\ArcGIS\\Lab2\\Lab2\\TIN_1405'\n",
    "\n",
    "aprx = arcpy.mp.ArcGISProject(r'D:\\2021-spring\\ArcGIS\\Lab2\\Lab2\\Lab2.aprx')\n",
    "tin = aprx.listMaps()[0]\n",
    "tin.addDataFromPath(tin_path)"
   ]
  },
  {
   "cell_type": "code",
   "execution_count": 7,
   "metadata": {},
   "outputs": [],
   "source": [
    "aprx = arcpy.mp.ArcGISProject(r'D:\\2021-spring\\ArcGIS\\Lab2\\Lab2\\Lab2.aprx')"
   ]
  },
  {
   "cell_type": "code",
   "execution_count": 5,
   "metadata": {},
   "outputs": [],
   "source": [
    "dem = aprx.listLayouts(\"DEM\")[0]"
   ]
  },
  {
   "cell_type": "code",
   "execution_count": 6,
   "metadata": {},
   "outputs": [
    {
     "data": {
      "text/plain": [
       "'D:\\\\2021-spring\\\\ArcGIS\\\\Lab2\\\\Lab2\\\\DEM.pdf'"
      ]
     },
     "execution_count": 6,
     "metadata": {},
     "output_type": "execute_result"
    }
   ],
   "source": [
    "dem.exportToPDF(r'D:\\2021-spring\\ArcGIS\\Lab2\\Lab2\\DEM.pdf')"
   ]
  },
  {
   "cell_type": "code",
   "execution_count": 8,
   "metadata": {},
   "outputs": [],
   "source": [
    "tin = aprx.listLayouts(\"TIN\")[0]"
   ]
  },
  {
   "cell_type": "code",
   "execution_count": 9,
   "metadata": {},
   "outputs": [
    {
     "data": {
      "text/plain": [
       "'D:\\\\2021-spring\\\\ArcGIS\\\\Lab2\\\\Lab2\\\\TIN.pdf'"
      ]
     },
     "execution_count": 9,
     "metadata": {},
     "output_type": "execute_result"
    }
   ],
   "source": [
    "tin.exportToPDF(r'D:\\2021-spring\\ArcGIS\\Lab2\\Lab2\\TIN.pdf')"
   ]
  },
  {
   "cell_type": "code",
   "execution_count": null,
   "metadata": {},
   "outputs": [],
   "source": []
  }
 ],
 "metadata": {
  "kernelspec": {
   "display_name": "Python 3",
   "language": "python",
   "name": "python3"
  },
  "language_info": {
   "codemirror_mode": {
    "name": "ipython",
    "version": 3
   },
   "file_extension": ".py",
   "mimetype": "text/x-python",
   "name": "python",
   "nbconvert_exporter": "python",
   "pygments_lexer": "ipython3",
   "version": "3.7.9"
  }
 },
 "nbformat": 4,
 "nbformat_minor": 4
}
