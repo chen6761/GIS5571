{
 "cells": [
  {
   "cell_type": "code",
   "execution_count": 1,
   "metadata": {},
   "outputs": [],
   "source": [
    "import arcpy\n",
    "from urllib.request import urlopen\n",
    "from bs4 import BeautifulSoup\n",
    "import requests\n",
    "import zipfile"
   ]
  },
  {
   "cell_type": "code",
   "execution_count": 2,
   "metadata": {},
   "outputs": [],
   "source": [
    "# Get the download link of streams data from MN Geo\n",
    "response = urlopen(\"https://gisdata.mn.gov/dataset/env-impaired-streams-2012\")\n",
    "html = response.read()\n",
    "parser = BeautifulSoup(html.decode(\"utf-8\"), \"html.parser\")\n",
    "target = parser.find_all('a', class_='SHP btn btn-primary dropdown-toggle resource-url-analytics')\n",
    "for link in target:\n",
    "    url=link.get('href')"
   ]
  },
  {
   "cell_type": "code",
   "execution_count": 3,
   "metadata": {},
   "outputs": [],
   "source": [
    "# Download the streams data and extract to data file\n",
    "r = requests.get(url, allow_redirects=True)\n",
    "open('streams.zip', 'wb').write(r.content)\n",
    "with zipfile.ZipFile(open('streams.zip','rb')) as f:\n",
    "    f.extractall(r\"D:\\2021-spring\\ArcGIS\\Lab2\\Path\\Path.gdb\\data\\streams\")"
   ]
  },
  {
   "cell_type": "code",
   "execution_count": 4,
   "metadata": {},
   "outputs": [],
   "source": [
    "# Get the download link of roads data from MN Geo\n",
    "response = urlopen(\"https://gisdata.mn.gov/dataset/trans-roads-mndot-tis\")\n",
    "html = response.read()\n",
    "parser = BeautifulSoup(html.decode(\"utf-8\"), \"html.parser\")\n",
    "target = parser.find_all('a', class_='SHP btn btn-primary dropdown-toggle resource-url-analytics')\n",
    "for link in target:\n",
    "    url=link.get('href')"
   ]
  },
  {
   "cell_type": "code",
   "execution_count": 5,
   "metadata": {},
   "outputs": [],
   "source": [
    "# Download the roads data and extract to data file\n",
    "r = requests.get(url, allow_redirects=True)\n",
    "open('roads.zip', 'wb').write(r.content)\n",
    "with zipfile.ZipFile(open('roads.zip','rb')) as f:\n",
    "    f.extractall(r\"D:\\2021-spring\\ArcGIS\\Lab2\\Path\\Path.gdb\\data\\roads\")"
   ]
  },
  {
   "cell_type": "code",
   "execution_count": 6,
   "metadata": {},
   "outputs": [],
   "source": [
    "# Get the download link of DEM data from MN Geo\n",
    "response = urlopen(\"https://gisdata.mn.gov/dataset/elev-30m-digital-elevation-model\")\n",
    "html = response.read()\n",
    "parser = BeautifulSoup(html.decode(\"utf-8\"), \"html.parser\")\n",
    "target = parser.find_all('a', class_='fgdb btn btn-primary dropdown-toggle resource-url-analytics')\n",
    "for link in target:\n",
    "    url=link.get('href')"
   ]
  },
  {
   "cell_type": "code",
   "execution_count": 7,
   "metadata": {},
   "outputs": [],
   "source": [
    "# Download the DEM data and extract to data file\n",
    "r = requests.get(url, allow_redirects=True)\n",
    "open('dem.zip', 'wb').write(r.content)\n",
    "with zipfile.ZipFile(open('dem.zip','rb')) as f:\n",
    "    f.extractall(r\"D:\\2021-spring\\ArcGIS\\Lab2\\Path\\Path.gdb\\data\\dem\")"
   ]
  },
  {
   "cell_type": "code",
   "execution_count": 8,
   "metadata": {},
   "outputs": [],
   "source": [
    "# Get the download link of cropland data from MN Geo\n",
    "response = urlopen(\"https://gisdata.mn.gov/dataset/agri-cropland-data-layer-2018\")\n",
    "html = response.read()\n",
    "parser = BeautifulSoup(html.decode(\"utf-8\"), \"html.parser\")\n",
    "target = parser.find_all('a', class_='fgdb btn btn-primary dropdown-toggle resource-url-analytics')\n",
    "for link in target:\n",
    "    url=link.get('href')"
   ]
  },
  {
   "cell_type": "code",
   "execution_count": 9,
   "metadata": {},
   "outputs": [],
   "source": [
    "# Download the cropland data and extract to data file\n",
    "r = requests.get(url, allow_redirects=True)\n",
    "open('cropland.zip', 'wb').write(r.content)\n",
    "with zipfile.ZipFile(open('cropland.zip','rb')) as f:\n",
    "    f.extractall(r\"D:\\2021-spring\\ArcGIS\\Lab2\\Path\\Path.gdb\\data\\cropland\")"
   ]
  },
  {
   "cell_type": "code",
   "execution_count": 10,
   "metadata": {},
   "outputs": [],
   "source": [
    "arcpy.env.workspace = r\"D:\\2021-spring\\ArcGIS\\Lab2\\Path\\Path.gdb\""
   ]
  },
  {
   "cell_type": "code",
   "execution_count": 11,
   "metadata": {},
   "outputs": [
    {
     "data": {
      "text/html": [
       "<h2>Output</h2>D:\\2021-spring\\ArcGIS\\Lab2\\Path\\Path.gdb\\DEM<h2>Messages</h2>Start Time: 2021年3月3日 上午 01:18:13<br/>Building Pyramids...<br/>Succeeded at 2021年3月3日 上午 01:18:14 (Elapsed Time: 0.75 seconds)<br/><style>.rendered_html td, .rendered_html th {text-align: left;}.rendered_html tbody {border: 1px solid black;}</style>"
      ],
      "text/plain": [
       "<Result 'D:\\\\2021-spring\\\\ArcGIS\\\\Lab2\\\\Path\\\\Path.gdb\\\\DEM'>"
      ]
     },
     "execution_count": 11,
     "metadata": {},
     "output_type": "execute_result"
    }
   ],
   "source": [
    "# Clip the DEM\n",
    "arcpy.management.Clip(r\"\\data\\dem\\elev_30m_digital_elevation_model.gdb\\digital_elevation_model_30m\", \n",
    "                      \"563400 4872300 581650 4890600\", \n",
    "                      \"DEM\", \n",
    "                      \"boundary\", \n",
    "                      \"32767\", \"NONE\", \"NO_MAINTAIN_EXTENT\")"
   ]
  },
  {
   "cell_type": "code",
   "execution_count": 12,
   "metadata": {},
   "outputs": [
    {
     "data": {
      "text/html": [
       "<h2>Output</h2>D:\\2021-spring\\ArcGIS\\Lab2\\Path\\Path.gdb\\clip_stream<h2>Messages</h2>Start Time: 2021年3月3日 上午 01:18:16<br/>Analyzing input features...<br/>Dissolving clip features...<br/>Clipping input features...<br/>Succeeded at 2021年3月3日 上午 01:18:16 (Elapsed Time: 0.35 seconds)<br/><style>.rendered_html td, .rendered_html th {text-align: left;}.rendered_html tbody {border: 1px solid black;}</style>"
      ],
      "text/plain": [
       "<Result 'D:\\\\2021-spring\\\\ArcGIS\\\\Lab2\\\\Path\\\\Path.gdb\\\\clip_stream'>"
      ]
     },
     "execution_count": 12,
     "metadata": {},
     "output_type": "execute_result"
    }
   ],
   "source": [
    "# Clip the stream\n",
    "arcpy.analysis.Clip(r\"\\data\\streams\\env_impaired_streams_2012.shp\", \n",
    "                    \"boundary\", \n",
    "                    \"clip_stream\", None)"
   ]
  },
  {
   "cell_type": "code",
   "execution_count": 13,
   "metadata": {},
   "outputs": [
    {
     "data": {
      "text/html": [
       "<h2>Output</h2>D:\\2021-spring\\ArcGIS\\Lab2\\Path\\Path.gdb\\clip_road<h2>Messages</h2>Start Time: 2021年3月3日 上午 01:18:17<br/>Assembling Features...<br/>Reading Features...<br/>Cracking Features...<br/>Succeeded at 2021年3月3日 上午 01:18:17 (Elapsed Time: 0.52 seconds)<br/><style>.rendered_html td, .rendered_html th {text-align: left;}.rendered_html tbody {border: 1px solid black;}</style>"
      ],
      "text/plain": [
       "<Result 'D:\\\\2021-spring\\\\ArcGIS\\\\Lab2\\\\Path\\\\Path.gdb\\\\clip_road'>"
      ]
     },
     "execution_count": 13,
     "metadata": {},
     "output_type": "execute_result"
    }
   ],
   "source": [
    "# Clip the road\n",
    "arcpy.analysis.Clip(r\"\\data\\roads\\STREETS_LOAD.shp\", \n",
    "                    \"boundary\", \n",
    "                    \"clip_road\", None)"
   ]
  },
  {
   "cell_type": "code",
   "execution_count": 14,
   "metadata": {},
   "outputs": [
    {
     "data": {
      "text/html": [
       "<h2>Output</h2>D:\\2021-spring\\ArcGIS\\Lab2\\Path\\Path.gdb\\stream<h2>Messages</h2>Start Time: 2021年3月3日 上午 01:18:19<br/>Reading Features...<br/>Cracking Features...<br/>Assembling Features...<br/>Succeeded at 2021年3月3日 上午 01:18:21 (Elapsed Time: 1.56 seconds)<br/><style>.rendered_html td, .rendered_html th {text-align: left;}.rendered_html tbody {border: 1px solid black;}</style>"
      ],
      "text/plain": [
       "<Result 'D:\\\\2021-spring\\\\ArcGIS\\\\Lab2\\\\Path\\\\Path.gdb\\\\stream'>"
      ]
     },
     "execution_count": 14,
     "metadata": {},
     "output_type": "execute_result"
    }
   ],
   "source": [
    "# Buffer the road and erase the stream since there are bridges\n",
    "arcpy.analysis.Buffer(\"clip_road\", \"clip_road_Buffer\", \"50 Meters\", \"FULL\", \"ROUND\", \"NONE\", None, \"PLANAR\")\n",
    "arcpy.analysis.Erase(\"clip_stream\", \"clip_road_Buffer\", \"stream\", None)"
   ]
  },
  {
   "cell_type": "code",
   "execution_count": 15,
   "metadata": {},
   "outputs": [],
   "source": [
    "# Calculate the values depends on the distance with the roads\n",
    "accumulation_raster = arcpy.sa.DistanceAccumulation(\"clip_road_Buffer\")\n",
    "accumulation_raster.save(\"Distanc_road\")"
   ]
  },
  {
   "cell_type": "code",
   "execution_count": 16,
   "metadata": {},
   "outputs": [],
   "source": [
    "# Rescale the valuse to 1 to 10\n",
    "out_raster = arcpy.sa.RescaleByFunction(\"Distanc_road\", \n",
    "                                        \"MSSMALL 0.25 0.25 0 # 1997 #\", 10, 1) \n",
    "out_raster.save(\"Rescale_road\")"
   ]
  },
  {
   "cell_type": "code",
   "execution_count": 17,
   "metadata": {},
   "outputs": [],
   "source": [
    "# Calculate the values depends on the slope of the surface\n",
    "out_raster = arcpy.sa.Slope(\"DEM\", \"DEGREE\", 1, \"PLANAR\", \"METER\")\n",
    "out_raster.save(\"Slope_DEM\")"
   ]
  },
  {
   "cell_type": "code",
   "execution_count": 18,
   "metadata": {},
   "outputs": [],
   "source": [
    "# Rescale the valuse to 1 to 10\n",
    "out_raster = arcpy.sa.RescaleByFunction(\"Slope_DEM\", \n",
    "                                        \"MSSMALL 1 1 0 # 75 #\", 10, 1)\n",
    "out_raster.save(\"Rescale_Slop\")"
   ]
  },
  {
   "cell_type": "code",
   "execution_count": 19,
   "metadata": {},
   "outputs": [
    {
     "data": {
      "text/html": [
       "<h2>Output</h2>D:\\2021-spring\\ArcGIS\\Lab2\\Path\\Path.gdb\\clip_cropland<h2>Messages</h2>Start Time: 2021年3月3日 上午 01:18:30<br/>Building Pyramids...<br/>Succeeded at 2021年3月3日 上午 01:18:30 (Elapsed Time: 0.92 seconds)<br/><style>.rendered_html td, .rendered_html th {text-align: left;}.rendered_html tbody {border: 1px solid black;}</style>"
      ],
      "text/plain": [
       "<Result 'D:\\\\2021-spring\\\\ArcGIS\\\\Lab2\\\\Path\\\\Path.gdb\\\\clip_cropland'>"
      ]
     },
     "execution_count": 19,
     "metadata": {},
     "output_type": "execute_result"
    }
   ],
   "source": [
    "# Clip the cropland\n",
    "arcpy.management.Clip(r\"\\data\\cropland\\agri_cropland_data_layer_2018.gdb\\agri_cropland_data_layer_2018\", \n",
    "                      \"563400 4872300 581650 4890600\",  \n",
    "                      \"clip_cropland\", \n",
    "                      \"boundary\", \n",
    "                      \"255\", \"NONE\", \"NO_MAINTAIN_EXTENT\")"
   ]
  },
  {
   "cell_type": "code",
   "execution_count": 20,
   "metadata": {},
   "outputs": [],
   "source": [
    "# Reclassify the cropland\n",
    "out_raster = arcpy.sa.Reclassify(\"clip_cropland\", \"VALUE\", \n",
    "                                 \"1 5;5 5;21 5;23 5;27 5;28 5;36 5;37 5;53 5;59 5;68 5;71 5;111 10;121 1;122 1;123 1;124 1;131 5;141 5;142 5;143 5;152 10;176 1;190 10;195 10\",\n",
    "                                 \"DATA\")\n",
    "out_raster.save(\"Reclass_cropland\")"
   ]
  },
  {
   "cell_type": "code",
   "execution_count": 21,
   "metadata": {},
   "outputs": [],
   "source": [
    "# Sum up the road, slope, and cropland\n",
    "out_raster = arcpy.sa.WeightedSum(\"Reclass_cropland Value 1;Rescale_road VALUE 1;Rescale_Slop VALUE 1\"); \n",
    "out_raster.save(\"Weighted_sum\")"
   ]
  },
  {
   "cell_type": "code",
   "execution_count": 22,
   "metadata": {},
   "outputs": [
    {
     "data": {
      "text/plain": [
       "<geoprocessing server result object at 0x1c264cea2a0>"
      ]
     },
     "execution_count": 22,
     "metadata": {},
     "output_type": "execute_result"
    }
   ],
   "source": [
    "# Get the optimal path\n",
    "arcpy.sa.OptimalRegionConnections(\"destination\", \n",
    "                                  \"Optimal_path\", \n",
    "                                  \"stream\", \n",
    "                                  \"Weighted_sum\", \n",
    "                                  None, \"PLANAR\", \"GENERATE_CONNECTIONS\")"
   ]
  },
  {
   "cell_type": "code",
   "execution_count": null,
   "metadata": {},
   "outputs": [],
   "source": []
  }
 ],
 "metadata": {
  "kernelspec": {
   "display_name": "Python 3",
   "language": "python",
   "name": "python3"
  },
  "language_info": {
   "codemirror_mode": {
    "name": "ipython",
    "version": 3
   },
   "file_extension": ".py",
   "mimetype": "text/x-python",
   "name": "python",
   "nbconvert_exporter": "python",
   "pygments_lexer": "ipython3",
   "version": "3.7.9"
  }
 },
 "nbformat": 4,
 "nbformat_minor": 4
}
