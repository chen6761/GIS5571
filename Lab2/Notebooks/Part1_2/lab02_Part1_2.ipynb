{
 "cells": [
  {
   "cell_type": "code",
   "execution_count": 5,
   "metadata": {},
   "outputs": [],
   "source": [
    "# Import the necessary modules\n",
    "import requests\n",
    "import arcpy\n",
    "import zipfile\n",
    "import imageio\n",
    "import os"
   ]
  },
  {
   "cell_type": "code",
   "execution_count": 2,
   "metadata": {},
   "outputs": [],
   "source": [
    "# Set the data URL \n",
    "data = 'http://services.nacse.org/prism/data/public/normals/4km/ppt/'"
   ]
  },
  {
   "cell_type": "code",
   "execution_count": 3,
   "metadata": {},
   "outputs": [
    {
     "name": "stdout",
     "output_type": "stream",
     "text": [
      "http://services.nacse.org/prism/data/public/normals/4km/ppt/1\n",
      "http://services.nacse.org/prism/data/public/normals/4km/ppt/2\n",
      "http://services.nacse.org/prism/data/public/normals/4km/ppt/3\n",
      "http://services.nacse.org/prism/data/public/normals/4km/ppt/4\n",
      "http://services.nacse.org/prism/data/public/normals/4km/ppt/5\n",
      "http://services.nacse.org/prism/data/public/normals/4km/ppt/6\n",
      "http://services.nacse.org/prism/data/public/normals/4km/ppt/7\n",
      "http://services.nacse.org/prism/data/public/normals/4km/ppt/8\n",
      "http://services.nacse.org/prism/data/public/normals/4km/ppt/9\n",
      "http://services.nacse.org/prism/data/public/normals/4km/ppt/10\n",
      "http://services.nacse.org/prism/data/public/normals/4km/ppt/11\n",
      "http://services.nacse.org/prism/data/public/normals/4km/ppt/12\n"
     ]
    }
   ],
   "source": [
    "# Use loop to download data and extraxt them to original data folder\n",
    "for month in range(1,13):\n",
    "    url = data + str(month)\n",
    "    print(url)\n",
    "    r = requests.get(url, allow_redirects=True)\n",
    "    open(f'{str(month)}.zip', 'wb').write(r.content)\n",
    "    with zipfile.ZipFile(open(f'C:/Users/user/{str(month)}.zip', 'rb')) as f:\n",
    "        f.extractall('D:/2021-spring/ArcGIS/Lab2/Cube/original')"
   ]
  },
  {
   "cell_type": "code",
   "execution_count": 3,
   "metadata": {},
   "outputs": [],
   "source": [
    "# Set the work environment\n",
    "arcpy.env.workspace = r'D:\\2021-spring\\ArcGIS\\Lab2\\Cube'"
   ]
  },
  {
   "cell_type": "code",
   "execution_count": 17,
   "metadata": {},
   "outputs": [],
   "source": [
    "# Set the parameter for creating mosaic dataset\n",
    "in_workspace = r'D:\\2021-spring\\ArcGIS\\Lab2\\Cube\\Cube.gdb'\n",
    "mosaicdataset = 'lab2cube1'\n",
    "coordinate_system = arcpy.SpatialReference(\"c:/coordsystems/NAD 1983.prj\")"
   ]
  },
  {
   "cell_type": "code",
   "execution_count": 18,
   "metadata": {},
   "outputs": [
    {
     "data": {
      "text/html": [
       "<h2>Output</h2>D:\\2021-spring\\ArcGIS\\Lab2\\Cube\\Cube.gdb\\lab2cube1<h2>Messages</h2>Start Time: 2021年3月1日 下午 03:45:54<br/>Succeeded at 2021年3月1日 下午 03:45:55 (Elapsed Time: 0.98 seconds)<br/><style>.rendered_html td, .rendered_html th {text-align: left;}.rendered_html tbody {border: 1px solid black;}</style>"
      ],
      "text/plain": [
       "<Result 'D:\\\\2021-spring\\\\ArcGIS\\\\Lab2\\\\Cube\\\\Cube.gdb\\\\lab2cube1'>"
      ]
     },
     "execution_count": 18,
     "metadata": {},
     "output_type": "execute_result"
    }
   ],
   "source": [
    "# Create Mosaic Dataset\n",
    "arcpy.management.CreateMosaicDataset(in_workspace, mosaicdataset, coordinate_system, None, '', \"NONE\", None)"
   ]
  },
  {
   "cell_type": "code",
   "execution_count": 7,
   "metadata": {},
   "outputs": [
    {
     "name": "stdout",
     "output_type": "stream",
     "text": [
      "PRISM_ppt_30yr_normal_4kmM2_01_bil.bil\n",
      "PRISM_ppt_30yr_normal_4kmM2_02_bil.bil\n",
      "PRISM_ppt_30yr_normal_4kmM2_03_bil.bil\n",
      "PRISM_ppt_30yr_normal_4kmM2_04_bil.bil\n",
      "PRISM_ppt_30yr_normal_4kmM2_05_bil.bil\n",
      "PRISM_ppt_30yr_normal_4kmM2_06_bil.bil\n",
      "PRISM_ppt_30yr_normal_4kmM2_07_bil.bil\n",
      "PRISM_ppt_30yr_normal_4kmM2_08_bil.bil\n",
      "PRISM_ppt_30yr_normal_4kmM2_09_bil.bil\n",
      "PRISM_ppt_30yr_normal_4kmM2_10_bil.bil\n",
      "PRISM_ppt_30yr_normal_4kmM2_11_bil.bil\n",
      "PRISM_ppt_30yr_normal_4kmM2_12_bil.bil\n"
     ]
    }
   ],
   "source": [
    "# Convert .bil data into TIFF\n",
    "arcpy.env.workspace = r'D:\\2021-spring\\ArcGIS\\Lab2\\Cube\\original'\n",
    "outgdb = r'D:\\2021-spring\\ArcGIS\\Lab2\\Cube\\Cube.gdb'\n",
    "for bil in arcpy.ListRasters():\n",
    "    arcpy.conversion.RasterToOtherFormat(bil, outgdb, \"TIFF\")\n",
    "    print(bil)"
   ]
  },
  {
   "cell_type": "code",
   "execution_count": 19,
   "metadata": {},
   "outputs": [
    {
     "name": "stdout",
     "output_type": "stream",
     "text": [
      "PRISM_ppt_30yr_normal_4kmM2_01_bil\n",
      "PRISM_ppt_30yr_normal_4kmM2_02_bil\n",
      "PRISM_ppt_30yr_normal_4kmM2_03_bil\n",
      "PRISM_ppt_30yr_normal_4kmM2_04_bil\n",
      "PRISM_ppt_30yr_normal_4kmM2_05_bil\n",
      "PRISM_ppt_30yr_normal_4kmM2_06_bil\n",
      "PRISM_ppt_30yr_normal_4kmM2_07_bil\n",
      "PRISM_ppt_30yr_normal_4kmM2_08_bil\n",
      "PRISM_ppt_30yr_normal_4kmM2_09_bil\n",
      "PRISM_ppt_30yr_normal_4kmM2_10_bil\n",
      "PRISM_ppt_30yr_normal_4kmM2_12_bil\n"
     ]
    }
   ],
   "source": [
    "# Add the TIFF files into mosaic dataset\n",
    "arcpy.env.workspace = r'D:\\2021-spring\\ArcGIS\\Lab2\\Cube\\Cube.gdb'\n",
    "for tiff in arcpy.ListRasters():\n",
    "    arcpy.management.AddRastersToMosaicDataset(mosaicdataset, \"Raster Dataset\", tiff)\n",
    "    print(tiff)"
   ]
  },
  {
   "cell_type": "code",
   "execution_count": 21,
   "metadata": {},
   "outputs": [
    {
     "data": {
      "text/html": [
       "<h2>Output</h2>D:\\2021-spring\\ArcGIS\\Lab2\\Cube\\Cube.gdb\\lab2cube1<h2>Messages</h2>Start Time: 2021年3月1日 下午 03:47:44<br/>Adding variable to AMD_lab2cube1_CAT...<br/>Succeeded at 2021年3月1日 下午 03:47:48 (Elapsed Time: 3.54 seconds)<br/><style>.rendered_html td, .rendered_html th {text-align: left;}.rendered_html tbody {border: 1px solid black;}</style>"
      ],
      "text/plain": [
       "<Result 'D:\\\\2021-spring\\\\ArcGIS\\\\Lab2\\\\Cube\\\\Cube.gdb\\\\lab2cube1'>"
      ]
     },
     "execution_count": 21,
     "metadata": {},
     "output_type": "execute_result"
    }
   ],
   "source": [
    "# Create a Variable field in the Footprints table of mosaic dataset\n",
    "arcpy.management.CalculateField(mosaicdataset, \"variable\", '\"prism\"', \"PYTHON3\", '', \"TEXT\")"
   ]
  },
  {
   "cell_type": "code",
   "execution_count": 22,
   "metadata": {},
   "outputs": [
    {
     "data": {
      "text/html": [
       "<h2>Output</h2>D:\\2021-spring\\ArcGIS\\Lab2\\Cube\\Cube.gdb\\lab2cube1<h2>Messages</h2>Start Time: 2021年3月1日 下午 03:47:55<br/>Adding Time to AMD_lab2cube1_CAT...<br/>Succeeded at 2021年3月1日 下午 03:47:59 (Elapsed Time: 3.51 seconds)<br/><style>.rendered_html td, .rendered_html th {text-align: left;}.rendered_html tbody {border: 1px solid black;}</style>"
      ],
      "text/plain": [
       "<Result 'D:\\\\2021-spring\\\\ArcGIS\\\\Lab2\\\\Cube\\\\Cube.gdb\\\\lab2cube1'>"
      ]
     },
     "execution_count": 22,
     "metadata": {},
     "output_type": "execute_result"
    }
   ],
   "source": [
    "# Create a Timestamp field in the Footprints table of mosaic dataset\n",
    "arcpy.management.CalculateField(mosaicdataset, \"Time\", \"DateAdd(Date(1998,0,1), $feature.OBJECTID-1,'year')\", \"ARCADE\", '', \"DATE\")"
   ]
  },
  {
   "cell_type": "code",
   "execution_count": 11,
   "metadata": {
    "scrolled": false
   },
   "outputs": [
    {
     "data": {
      "text/html": [
       "<h2>Output</h2>D:\\2021-spring\\ArcGIS\\Lab2\\Cube\\Cube.gdb\\lab2cube<h2>Messages</h2>Start Time: 2021年3月1日 下午 03:18:30<br/>Succeeded at 2021年3月1日 下午 03:18:32 (Elapsed Time: 2.04 seconds)<br/><style>.rendered_html td, .rendered_html th {text-align: left;}.rendered_html tbody {border: 1px solid black;}</style>"
      ],
      "text/plain": [
       "<Result 'D:\\\\2021-spring\\\\ArcGIS\\\\Lab2\\\\Cube\\\\Cube.gdb\\\\lab2cube'>"
      ]
     },
     "execution_count": 11,
     "metadata": {},
     "output_type": "execute_result"
    }
   ],
   "source": [
    "# Execute the build mutidimensional info tool to format the two fields above correctly \n",
    "arcpy.md.BuildMultidimensionalInfo(mosaicdataset, \"variable\", \"Time # #\", None)"
   ]
  },
  {
   "cell_type": "code",
   "execution_count": 13,
   "metadata": {},
   "outputs": [
    {
     "data": {
      "text/html": [
       "<h2>Output</h2>a Layer object<h2>Messages</h2>Start Time: 2021年3月1日 下午 03:18:55<br/>Succeeded at 2021年3月1日 下午 03:19:00 (Elapsed Time: 5.24 seconds)<br/><style>.rendered_html td, .rendered_html th {text-align: left;}.rendered_html tbody {border: 1px solid black;}</style>"
      ],
      "text/plain": [
       "<Result 'lab2cube_MultidimLayer'>"
      ]
     },
     "execution_count": 13,
     "metadata": {},
     "output_type": "execute_result"
    }
   ],
   "source": [
    "# Make Multidimensional Raster Layer \n",
    "arcpy.md.MakeMultidimensionalRasterLayer(mosaicdataset, \"lab2cube_MultidimLayer\", \"prism\", \"ALL\", None, None, \"\", \"\", \"\", None, \"\", \"\", \"DIMENSIONS\")"
   ]
  },
  {
   "cell_type": "code",
   "execution_count": 14,
   "metadata": {},
   "outputs": [
    {
     "data": {
      "text/html": [
       "<h2>Output</h2>D:\\2021-spring\\ArcGIS\\Lab2\\Cube\\lab2cube.nc<h2>Messages</h2>Start Time: 2021年3月1日 下午 03:19:21<br/>WARNING 110290: This tool requires projected data to accurately measure distances.  The Input Multidimensional Raster Layer will be projected to the WGS 1984 World Equidistant Cylindrical projection (WKID 4087).<br/>WARNING 110013: The default Time Step Interval is 1 year.<br/>WARNING 110067: Your spatial reference is not compatible with CF Conventions.  You may experience difficulties using the resulting space-time cube with other NetCDF tools and software.<br/><br/>---------- Space Time Cube Characteristics -----------<br/>Input feature time extent          1998-01-01 06:00:00<br/>                                to 2008-01-01 06:00:00<br/>                                                      <br/>Number of time steps                                11<br/>Time step interval                              1 year<br/>Time step alignment                                End<br/>                                                      <br/>First time step temporal bias                  100.00%<br/>First time step interval                         after<br/>                                   1997-01-01 06:00:00<br/>                                       to on or before<br/>                                   1998-01-01 06:00:00<br/>                                                      <br/>Last time step temporal bias                     0.00%<br/>Last time step interval                          after<br/>                                   2007-01-01 06:00:00<br/>                                       to on or before<br/>                                   2008-01-01 06:00:00<br/>                                                      <br/>Cube extent across space       (coordinates in meters)<br/>Min X                                   -13894063.9446<br/>Min Y                                     2708361.9668<br/>Max X                                    -7451448.4150<br/>Max Y                                     5478283.7456<br/><br/>Locations                  481631<br/>Total observations        5297941<br/><br/>------- Overall Data Trend - PRISM_NONE_ZEROS --------<br/>Trend direction                        Not Significant<br/>Trend statistic                                 0.0000<br/>Trend p-value                                   1.0000<br/><br/>Succeeded at 2021年3月1日 下午 03:28:26 (Elapsed Time: 9 minutes 4 seconds)<br/><style>.rendered_html td, .rendered_html th {text-align: left;}.rendered_html tbody {border: 1px solid black;}</style>"
      ],
      "text/plain": [
       "<Result 'D:\\\\2021-spring\\\\ArcGIS\\\\Lab2\\\\Cube\\\\lab2cube.nc'>"
      ]
     },
     "execution_count": 14,
     "metadata": {},
     "output_type": "execute_result"
    }
   ],
   "source": [
    "# Create Space Time Cube and save it into disk\n",
    "arcpy.stpm.CreateSpaceTimeCubeMDRasterLayer(\"lab2cube_MultidimLayer\", \"lab2cube.nc\", \"ZEROS\")"
   ]
  },
  {
   "cell_type": "code",
   "execution_count": 21,
   "metadata": {},
   "outputs": [],
   "source": [
    "# Download all the images from ArcPro layouts\n",
    "aprx = arcpy.mp.ArcGISProject(r'D:\\2021-spring\\ArcGIS\\Lab2\\Cube\\Cube.aprx')\n",
    "for layout in range(11,22):\n",
    "    png = aprx.listLayouts(layout)[0]\n",
    "    png.exportToGIF(f'D:/2021-spring/ArcGIS/Lab2/Cube/Output/{layout}.gif')"
   ]
  },
  {
   "cell_type": "code",
   "execution_count": 29,
   "metadata": {},
   "outputs": [],
   "source": [
    "# Get all the dirctories of images\n",
    "location = r'D:\\2021-spring\\ArcGIS\\Lab2\\Cube\\Output' \n",
    "pics = []\n",
    "for file in os.listdir(location):\n",
    "    pics.append(f\"{location}\\\\{file}\") "
   ]
  },
  {
   "cell_type": "code",
   "execution_count": 31,
   "metadata": {},
   "outputs": [],
   "source": [
    "# Combine all the images and save it as a GIF\n",
    "gifs = []    \n",
    "for pic in pics:\n",
    "    gifs.append(imageio.imread(pic)) \n",
    "imageio.mimwrite(r'D:\\2021-spring\\ArcGIS\\Lab2\\Cube\\Output\\GIF.gif', gifs, fps=5)"
   ]
  }
 ],
 "metadata": {
  "kernelspec": {
   "display_name": "Python 3",
   "language": "python",
   "name": "python3"
  },
  "language_info": {
   "codemirror_mode": {
    "name": "ipython",
    "version": 3
   },
   "file_extension": ".py",
   "mimetype": "text/x-python",
   "name": "python",
   "nbconvert_exporter": "python",
   "pygments_lexer": "ipython3",
   "version": "3.7.9"
  }
 },
 "nbformat": 4,
 "nbformat_minor": 4
}
